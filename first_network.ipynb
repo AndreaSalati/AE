{
  "cells": [
    {
      "cell_type": "markdown",
      "metadata": {
        "id": "iaYVCdI2I2Oc"
      },
      "source": [
        "# **First** autoencoder"
      ]
    },
    {
      "cell_type": "markdown",
      "metadata": {},
      "source": [
        "## Importing data"
      ]
    },
    {
      "cell_type": "code",
      "execution_count": 9,
      "metadata": {
        "id": "e_RNyOgSCrYP"
      },
      "outputs": [],
      "source": [
        "import numpy as np\n",
        "import torch\n",
        "import torch.nn as nn\n",
        "import pandas as pd\n",
        "from sklearn.decomposition import PCA\n",
        "\n",
        "from DATA_generator import *\n",
        "\n",
        "%matplotlib inline\n",
        "import matplotlib.pyplot as plt\n",
        "\n",
        "\n",
        "\n",
        "#using lorenzos code from R\n",
        "#import rpy2.robjects as robjects\n",
        "#from rpy2.robjects import pandas2ri"
      ]
    },
    {
      "cell_type": "markdown",
      "metadata": {},
      "source": [
        "Real DATA"
      ]
    },
    {
      "cell_type": "code",
      "execution_count": 10,
      "metadata": {},
      "outputs": [],
      "source": [
        "bigData = pd.read_csv(\"/Users/salati/Documents/CODE/AE2/DATA/Muscle_exon.txt\", sep=\" \")\n",
        "#Taking only the rythmic genes\n",
        "PeriodicData=bigData.loc[[\"ENSG00000105516\", \"ENSG00000049246\", \"ENSG00000167074\", \"ENSG00000174738\", \"ENSG00000179094\", \"ENSG00000132326\" , \"ENSG00000170485\", \"ENSG00000133794\",\"ENSG00000126368\",\"ENSG00000008405\",\"ENSG00000121671\",\"ENSG00000159208\"]]\n",
        "DATA=torch.tensor(PeriodicData.values)\n",
        "DATA=DATA.float()\n",
        "E=np.array(PeriodicData.values)\n",
        "\n",
        "true_phases=pd.read_csv(\"/Users/salati/Documents/CODE/AE2/DATA/true_phi.txt\",sep=\" \")\n",
        "true_phases=np.array(true_phases.values)\n",
        "true_phases=true_phases[:,0]"
      ]
    },
    {
      "cell_type": "markdown",
      "metadata": {},
      "source": [
        "Simulated DATA"
      ]
    },
    {
      "cell_type": "markdown",
      "metadata": {},
      "source": [
        "N_Samples=56\n",
        "N_PeriodicGenes=12\n",
        "N_NonPeriodicGenes=0\n",
        "N_Genes=N_PeriodicGenes+N_NonPeriodicGenes\n",
        "NoiseSigma=0.04\n",
        "\n",
        "#E , true_phases, alpha=NonUniformDataGenerator(N_Samples=N_Samples, N_PeriodicGenes=N_PeriodicGenes,noise=True, N_NonPeriodicGenes=N_NonPeriodicGenes )\n",
        "E , true_phases, alpha=DataGenerator(N_Samples=N_Samples, N_PeriodicGenes=N_PeriodicGenes,noise=True, N_NonPeriodicGenes=N_NonPeriodicGenes , Means=False, NoiseSigma=NoiseSigma )\n",
        "\n",
        "DATA=torch.from_numpy(E)\n",
        "DATA=DATA.float()"
      ]
    },
    {
      "cell_type": "code",
      "execution_count": 11,
      "metadata": {},
      "outputs": [
        {
          "data": {
            "text/plain": [
              "57"
            ]
          },
          "execution_count": 11,
          "metadata": {},
          "output_type": "execute_result"
        }
      ],
      "source": [
        "N_Genes=DATA.shape[0]\n",
        "N_Samples=DATA.shape[1]\n",
        "N_Samples"
      ]
    },
    {
      "cell_type": "markdown",
      "metadata": {},
      "source": [
        "Select gene you are interested setting varaible g in order to plot data, and supposed distribution"
      ]
    },
    {
      "cell_type": "code",
      "execution_count": 12,
      "metadata": {},
      "outputs": [
        {
          "data": {
            "text/plain": [
              "[<matplotlib.lines.Line2D at 0x7fa660532f50>]"
            ]
          },
          "execution_count": 12,
          "metadata": {},
          "output_type": "execute_result"
        },
        {
          "data": {
            "image/png": "[encoded data removed]",
            "text/plain": [
              "<Figure size 640x480 with 1 Axes>"
            ]
          },
          "metadata": {},
          "output_type": "display_data"
        }
      ],
      "source": [
        "plt.plot(DATA[1,:], 'o')"
      ]
    },
    {
      "cell_type": "markdown",
      "metadata": {
        "id": "OKCawvYJyfxw"
      },
      "source": [
        "## PCA"
      ]
    },
    {
      "cell_type": "code",
      "execution_count": 13,
      "metadata": {
        "colab": {
          "base_uri": "https://localhost:8080/"
        },
        "id": "y2imPeGXo13Q",
        "outputId": "b3844d10-f6ff-4a72-ad49-e230e4eeedb0"
      },
      "outputs": [
        {
          "data": {
            "text/html": [
              "<style>#sk-container-id-1 {color: black;background-color: white;}#sk-container-id-1 pre{padding: 0;}#sk-container-id-1 div.sk-toggleable {background-color: white;}#sk-container-id-1 label.sk-toggleable__label {cursor: pointer;display: block;width: 100%;margin-bottom: 0;padding: 0.3em;box-sizing: border-box;text-align: center;}#sk-container-id-1 label.sk-toggleable__label-arrow:before {content: \"▸\";float: left;margin-right: 0.25em;color: #696969;}#sk-container-id-1 label.sk-toggleable__label-arrow:hover:before {color: black;}#sk-container-id-1 div.sk-estimator:hover label.sk-toggleable__label-arrow:before {color: black;}#sk-container-id-1 div.sk-toggleable__content {max-height: 0;max-width: 0;overflow: hidden;text-align: left;background-color: #f0f8ff;}#sk-container-id-1 div.sk-toggleable__content pre {margin: 0.2em;color: black;border-radius: 0.25em;background-color: #f0f8ff;}#sk-container-id-1 input.sk-toggleable__control:checked~div.sk-toggleable__content {max-height: 200px;max-width: 100%;overflow: auto;}#sk-container-id-1 input.sk-toggleable__control:checked~label.sk-toggleable__label-arrow:before {content: \"▾\";}#sk-container-id-1 div.sk-estimator input.sk-toggleable__control:checked~label.sk-toggleable__label {background-color: #d4ebff;}#sk-container-id-1 div.sk-label input.sk-toggleable__control:checked~label.sk-toggleable__label {background-color: #d4ebff;}#sk-container-id-1 input.sk-hidden--visually {border: 0;clip: rect(1px 1px 1px 1px);clip: rect(1px, 1px, 1px, 1px);height: 1px;margin: -1px;overflow: hidden;padding: 0;position: absolute;width: 1px;}#sk-container-id-1 div.sk-estimator {font-family: monospace;background-color: #f0f8ff;border: 1px dotted black;border-radius: 0.25em;box-sizing: border-box;margin-bottom: 0.5em;}#sk-container-id-1 div.sk-estimator:hover {background-color: #d4ebff;}#sk-container-id-1 div.sk-parallel-item::after {content: \"\";width: 100%;border-bottom: 1px solid gray;flex-grow: 1;}#sk-container-id-1 div.sk-label:hover label.sk-toggleable__label {background-color: #d4ebff;}#sk-container-id-1 div.sk-serial::before {content: \"\";position: absolute;border-left: 1px solid gray;box-sizing: border-box;top: 0;bottom: 0;left: 50%;z-index: 0;}#sk-container-id-1 div.sk-serial {display: flex;flex-direction: column;align-items: center;background-color: white;padding-right: 0.2em;padding-left: 0.2em;position: relative;}#sk-container-id-1 div.sk-item {position: relative;z-index: 1;}#sk-container-id-1 div.sk-parallel {display: flex;align-items: stretch;justify-content: center;background-color: white;position: relative;}#sk-container-id-1 div.sk-item::before, #sk-container-id-1 div.sk-parallel-item::before {content: \"\";position: absolute;border-left: 1px solid gray;box-sizing: border-box;top: 0;bottom: 0;left: 50%;z-index: -1;}#sk-container-id-1 div.sk-parallel-item {display: flex;flex-direction: column;z-index: 1;position: relative;background-color: white;}#sk-container-id-1 div.sk-parallel-item:first-child::after {align-self: flex-end;width: 50%;}#sk-container-id-1 div.sk-parallel-item:last-child::after {align-self: flex-start;width: 50%;}#sk-container-id-1 div.sk-parallel-item:only-child::after {width: 0;}#sk-container-id-1 div.sk-dashed-wrapped {border: 1px dashed gray;margin: 0 0.4em 0.5em 0.4em;box-sizing: border-box;padding-bottom: 0.4em;background-color: white;}#sk-container-id-1 div.sk-label label {font-family: monospace;font-weight: bold;display: inline-block;line-height: 1.2em;}#sk-container-id-1 div.sk-label-container {text-align: center;}#sk-container-id-1 div.sk-container {/* jupyter's `normalize.less` sets `[hidden] { display: none; }` but bootstrap.min.css set `[hidden] { display: none !important; }` so we also need the `!important` here to be able to override the default hidden behavior on the sphinx rendered scikit-learn.org. See: https://github.com/scikit-learn/scikit-learn/issues/21755 */display: inline-block !important;position: relative;}#sk-container-id-1 div.sk-text-repr-fallback {display: none;}</style><div id=\"sk-container-id-1\" class=\"sk-top-container\"><div class=\"sk-text-repr-fallback\"><pre>PCA(n_components=2)</pre><b>In a Jupyter environment, please rerun this cell to show the HTML representation or trust the notebook. <br />On GitHub, the HTML representation is unable to render, please try loading this page with nbviewer.org.</b></div><div class=\"sk-container\" hidden><div class=\"sk-item\"><div class=\"sk-estimator sk-toggleable\"><input class=\"sk-toggleable__control sk-hidden--visually\" id=\"sk-estimator-id-1\" type=\"checkbox\" checked><label for=\"sk-estimator-id-1\" class=\"sk-toggleable__label sk-toggleable__label-arrow\">PCA</label><div class=\"sk-toggleable__content\"><pre>PCA(n_components=2)</pre></div></div></div></div></div>"
            ],
            "text/plain": [
              "PCA(n_components=2)"
            ]
          },
          "execution_count": 13,
          "metadata": {},
          "output_type": "execute_result"
        }
      ],
      "source": [
        "Et=np.transpose(E)\n",
        "pca=PCA(n_components=2)\n",
        "pca.fit(Et)"
      ]
    },
    {
      "cell_type": "code",
      "execution_count": 14,
      "metadata": {
        "colab": {
          "base_uri": "https://localhost:8080/"
        },
        "id": "DvG03oqJuZq8",
        "outputId": "4d8e855f-aadf-4fd0-e0ab-09216cfc07fb"
      },
      "outputs": [
        {
          "name": "stdout",
          "output_type": "stream",
          "text": [
            "The two vectors are orthogonal, the scalar priduct is:  3.469446951953614e-17\n"
          ]
        }
      ],
      "source": [
        "pca.explained_variance_ratio_\n",
        "PCA_base=pca.components_\n",
        "PCA_base=np.array(PCA_base)\n",
        "print('The two vectors are orthogonal, the scalar priduct is: ',np.matmul(PCA_base[0,:] ,PCA_base[1,:]) )\n"
      ]
    },
    {
      "cell_type": "code",
      "execution_count": 15,
      "metadata": {
        "colab": {
          "base_uri": "https://localhost:8080/"
        },
        "id": "hc5jT4bt5DyC",
        "outputId": "503294d1-4107-4d0a-8bbf-2218c8d774f7"
      },
      "outputs": [],
      "source": [
        "pca_points=pca.fit_transform(Et)"
      ]
    },
    {
      "cell_type": "code",
      "execution_count": 16,
      "metadata": {
        "colab": {
          "base_uri": "https://localhost:8080/",
          "height": 283
        },
        "id": "KWTTeh037_79",
        "outputId": "5cb4b1d9-3528-4bea-efa1-e8af3917b69a"
      },
      "outputs": [
        {
          "data": {
            "text/plain": [
              "[<matplotlib.lines.Line2D at 0x7fa695ecece0>]"
            ]
          },
          "execution_count": 16,
          "metadata": {},
          "output_type": "execute_result"
        },
        {
          "data": {
            "image/png": "[encoded data removed]",
            "text/plain": [
              "<Figure size 640x480 with 1 Axes>"
            ]
          },
          "metadata": {},
          "output_type": "display_data"
        }
      ],
      "source": [
        "plt.plot(pca_points[:,0] , pca_points[:,1], 'o')"
      ]
    },
    {
      "cell_type": "code",
      "execution_count": 17,
      "metadata": {
        "id": "Ece-lw9f9czO"
      },
      "outputs": [
        {
          "data": {
            "text/plain": [
              "0.33878580216853926"
            ]
          },
          "execution_count": 17,
          "metadata": {},
          "output_type": "execute_result"
        }
      ],
      "source": [
        "from DATA_generator import *\n",
        "PCA_phi=np.arctan2(pca_points[:,0],pca_points[:,1])\n",
        "PCAshifted_phi,madPCA=optimal_shift(PCA_phi, true_phases)\n",
        "madPCA"
      ]
    },
    {
      "cell_type": "code",
      "execution_count": 18,
      "metadata": {
        "colab": {
          "base_uri": "https://localhost:8080/",
          "height": 283
        },
        "id": "AX6320fF-YT3",
        "outputId": "fcb219f3-e7d8-41f4-dcb2-f77c2051eba3"
      },
      "outputs": [
        {
          "data": {
            "text/plain": [
              "[<matplotlib.lines.Line2D at 0x7fa683942e00>]"
            ]
          },
          "execution_count": 18,
          "metadata": {},
          "output_type": "execute_result"
        },
        {
          "data": {
            "image/png": "[encoded data removed]",
            "text/plain": [
              "<Figure size 640x480 with 1 Axes>"
            ]
          },
          "metadata": {},
          "output_type": "display_data"
        }
      ],
      "source": [
        "plt.plot(true_phases,PCAshifted_phi, 'o')"
      ]
    },
    {
      "cell_type": "markdown",
      "metadata": {
        "id": "e5ZDuFhHyUIR"
      },
      "source": [
        "## Torch Linear"
      ]
    },
    {
      "cell_type": "markdown",
      "metadata": {},
      "source": [
        "### Setting the network"
      ]
    },
    {
      "cell_type": "code",
      "execution_count": 19,
      "metadata": {},
      "outputs": [
        {
          "data": {
            "text/plain": [
              "tensor([[-0.3415, -0.2836, -0.3255, -0.2395, -0.4008, -0.2304,  0.0701,  0.2681,\n",
              "         -0.2792,  0.0499, -0.1431, -0.4982],\n",
              "        [ 0.0096,  0.1267,  0.0540, -0.1128,  0.0749, -0.0783, -0.4529, -0.3995,\n",
              "         -0.7616, -0.0944,  0.0129,  0.0511]])"
            ]
          },
          "execution_count": 19,
          "metadata": {},
          "output_type": "execute_result"
        }
      ],
      "source": [
        "PCA_tensor=torch.tensor(PCA_base)\n",
        "PCA_tensor=PCA_tensor.float()\n",
        "PCA_tensor"
      ]
    },
    {
      "cell_type": "code",
      "execution_count": 20,
      "metadata": {},
      "outputs": [],
      "source": [
        "class LinearEncoder(nn.Module):\n",
        "    def __init__(self):\n",
        "        super().__init__()\n",
        "        self.encoder = nn.Linear(N_Genes, 2,bias=False)\n",
        "        #self.encoder.weight=nn.Parameter(PCA_tensor)\n",
        "\n",
        "        self.decoder = nn.Linear(2, N_Genes,bias=False)\n",
        "        #self.decoder.weight=nn.Parameter(PCA_tensor.transpose(0,1))\n",
        "           \n",
        "    #fucntion that makes the input flow in the network\n",
        "    def forward(self, x):\n",
        "        encoded=self.encoder(x) #compress the input\n",
        "        decoded=self.decoder(encoded)\n",
        "\n",
        "        return decoded"
      ]
    },
    {
      "cell_type": "markdown",
      "metadata": {
        "id": "fqw6R0zJCKcf"
      },
      "source": [
        "Here I create an instance of the class LinearEncoder and define other important stuff like the loss function"
      ]
    },
    {
      "cell_type": "code",
      "execution_count": 21,
      "metadata": {
        "id": "LU3xTg05BTWz"
      },
      "outputs": [],
      "source": [
        "model = LinearEncoder()\n",
        "criterion= nn.MSELoss()\n",
        "#optimizer = torch.optim.SGD(model.parameters(),lr=0.00001)\n",
        "optimizer=torch.optim.Adam(model.parameters(), lr=0.001, betas=(0.9, 0.999), eps=1e-08, weight_decay=0, amsgrad=False)\n"
      ]
    },
    {
      "cell_type": "markdown",
      "metadata": {},
      "source": [
        "Adding the GPU stuff"
      ]
    },
    {
      "cell_type": "code",
      "execution_count": 22,
      "metadata": {},
      "outputs": [],
      "source": [
        "#for GPU use this block\n",
        "\n",
        "#device = torch.device('mps')\n",
        "#E_t=torch.from_numpy(E)\n",
        "#E_t=E_t.float()\n",
        "#DATA=torch.tensor(E_t,  device=device)\n",
        "#model.to(device)\n",
        "\n",
        "\n",
        "# for CPU keep this line"
      ]
    },
    {
      "cell_type": "markdown",
      "metadata": {},
      "source": [
        "Training cycle"
      ]
    },
    {
      "cell_type": "code",
      "execution_count": 23,
      "metadata": {
        "id": "RTV9mvJlCm-0"
      },
      "outputs": [
        {
          "name": "stdout",
          "output_type": "stream",
          "text": [
            "epoch  0 Loss 6.345648288726807\n",
            "epoch  30 Loss 0.4198453426361084\n",
            "epoch  60 Loss 0.37875962257385254\n",
            "epoch  90 Loss 0.2745555639266968\n",
            "epoch  120 Loss 0.11195620894432068\n",
            "epoch  150 Loss 0.055619388818740845\n",
            "epoch  180 Loss 0.05006079375743866\n",
            "epoch  210 Loss 0.0498230867087841\n",
            "epoch  240 Loss 0.04974733665585518\n",
            "epoch  270 Loss 0.04967968165874481\n",
            "epoch  300 Loss 0.04965035244822502\n",
            "epoch  330 Loss 0.049655329436063766\n",
            "epoch  360 Loss 0.04967566207051277\n",
            "epoch  390 Loss 0.04970312491059303\n",
            "epoch  420 Loss 0.04973304271697998\n",
            "epoch  450 Loss 0.049763310700654984\n",
            "epoch  480 Loss 0.0497933030128479\n",
            "epoch  510 Loss 0.04982258751988411\n",
            "epoch  540 Loss 0.049850959330797195\n",
            "epoch  570 Loss 0.049878597259521484\n"
          ]
        }
      ],
      "source": [
        "#recon= reconstruction of the input\n",
        "num_epochs=600\n",
        "outputs=[]\n",
        "\n",
        "for epoch in range(num_epochs):\n",
        " \n",
        "  for sample in range(N_Samples):\n",
        "    input=DATA[:,sample]\n",
        "    recon=model(input)\n",
        "    loss=criterion(recon,input)\n",
        "\n",
        "    optimizer.zero_grad()\n",
        "    loss.backward()\n",
        "    optimizer.step()\n",
        "    #added this line to compare with the circular model, thisline block the convergence\n",
        "  if loss.item() < 0.0005 :\n",
        "    break\n",
        "  if (epoch % 30 ==0):\n",
        "    print(\"epoch \",epoch,\"Loss\", loss.item())"
      ]
    },
    {
      "cell_type": "markdown",
      "metadata": {
        "id": "cA1L1yp13qKC"
      },
      "source": [
        "Grabbing the weights of the first layer which are the analogous of the eigenvectors in PCA"
      ]
    },
    {
      "cell_type": "code",
      "execution_count": 24,
      "metadata": {
        "id": "SXbNRbczN4p9"
      },
      "outputs": [],
      "source": [
        "encoder_base=model.encoder.weight\n",
        "#print(encoder_base)\n",
        "decoder_base=model.decoder.weight\n",
        "#print(decoder_base)"
      ]
    },
    {
      "cell_type": "markdown",
      "metadata": {},
      "source": [
        "Checking how the scalar product of the two vectors of the \"basis\" is"
      ]
    },
    {
      "cell_type": "code",
      "execution_count": 25,
      "metadata": {
        "colab": {
          "base_uri": "https://localhost:8080/"
        },
        "id": "Ld_UHW6yOQ39",
        "outputId": "a2c098a2-487f-4f7f-a4b2-0073b55e2f08"
      },
      "outputs": [
        {
          "data": {
            "text/plain": [
              "tensor(-0.0558, grad_fn=<DotBackward0>)"
            ]
          },
          "execution_count": 25,
          "metadata": {},
          "output_type": "execute_result"
        }
      ],
      "source": [
        "torch.dot(encoder_base[0,:],encoder_base[1,:] )"
      ]
    },
    {
      "cell_type": "code",
      "execution_count": 26,
      "metadata": {
        "id": "aMOvEXlEH30B"
      },
      "outputs": [],
      "source": [
        "NNphases=np.zeros((N_Samples,2))\n",
        "for sample in range(N_Samples):\n",
        "  temp=torch.matmul(encoder_base, DATA[:,sample]).detach().numpy()\n",
        "  NNphases[sample,:]=temp"
      ]
    },
    {
      "cell_type": "markdown",
      "metadata": {},
      "source": [
        "### Plots"
      ]
    },
    {
      "cell_type": "code",
      "execution_count": 27,
      "metadata": {
        "colab": {
          "base_uri": "https://localhost:8080/",
          "height": 283
        },
        "id": "7EazKNhyLVc-",
        "outputId": "c9536c54-a469-48b2-e617-5772f764faf6"
      },
      "outputs": [
        {
          "data": {
            "text/plain": [
              "[<matplotlib.lines.Line2D at 0x7fa6839b6320>]"
            ]
          },
          "execution_count": 27,
          "metadata": {},
          "output_type": "execute_result"
        },
        {
          "data": {
            "image/png": "[encoded data removed]",
            "text/plain": [
              "<Figure size 640x480 with 1 Axes>"
            ]
          },
          "metadata": {},
          "output_type": "display_data"
        }
      ],
      "source": [
        "plt.plot(NNphases[:,0], NNphases[:,1],'o')"
      ]
    },
    {
      "cell_type": "code",
      "execution_count": 28,
      "metadata": {
        "id": "698mgzh3LCvH"
      },
      "outputs": [
        {
          "data": {
            "text/plain": [
              "0.8179806681459931"
            ]
          },
          "execution_count": 28,
          "metadata": {},
          "output_type": "execute_result"
        }
      ],
      "source": [
        "inf_phases=np.arctan2( NNphases[:,0],NNphases[:,1] )\n",
        "NNshifted_phi,madNN=optimal_shift(inf_phases, true_phases)\n",
        "madNN"
      ]
    },
    {
      "cell_type": "code",
      "execution_count": 29,
      "metadata": {
        "colab": {
          "base_uri": "https://localhost:8080/",
          "height": 285
        },
        "id": "80qCm_9pNC5R",
        "outputId": "25e8492c-8238-4688-d8e3-d947e9b34e17"
      },
      "outputs": [
        {
          "data": {
            "text/plain": [
              "[<matplotlib.lines.Line2D at 0x7fa69600d390>]"
            ]
          },
          "execution_count": 29,
          "metadata": {},
          "output_type": "execute_result"
        },
        {
          "data": {
            "image/png": "[encoded data removed]",
            "text/plain": [
              "<Figure size 640x480 with 1 Axes>"
            ]
          },
          "metadata": {},
          "output_type": "display_data"
        }
      ],
      "source": [
        "plt.plot(true_phases,NNshifted_phi,'o')"
      ]
    },
    {
      "cell_type": "markdown",
      "metadata": {
        "id": "Gljp-hr0jVkz"
      },
      "source": [
        "## Adding the \"circular\" activation function"
      ]
    },
    {
      "cell_type": "markdown",
      "metadata": {},
      "source": [
        "### Setting the network"
      ]
    },
    {
      "cell_type": "code",
      "execution_count": 30,
      "metadata": {
        "id": "1PuLTCWrmtpp"
      },
      "outputs": [
        {
          "data": {
            "text/plain": [
              "'\\nclass CircularEncoder(nn.Module):\\n    def __init__(self):\\n        super().__init__()\\n        self.encoder = nn.Sequential(\\n            nn.Linear(N_Genes, 2,bias=False)\\n           )\\n        self.decoder = nn.Sequential(\\n            nn.Linear(2, N_Genes,bias=False)\\n           )\\n    #fucntion that makes the input flow in the network\\n    def forward(self, x):\\n        encoded=self.encoder(x) #compress the input\\n        encoded_circ=encoded/torch.linalg.norm(encoded)\\n        decoded=self.decoder(encoded_circ)\\n\\n        return decoded #encoded,encoded_circ \\n        '"
            ]
          },
          "execution_count": 30,
          "metadata": {},
          "output_type": "execute_result"
        }
      ],
      "source": [
        "#SAME THING BUT USING SEQUENTIAL\n",
        "'''\n",
        "class CircularEncoder(nn.Module):\n",
        "    def __init__(self):\n",
        "        super().__init__()\n",
        "        self.encoder = nn.Sequential(\n",
        "            nn.Linear(N_Genes, 2,bias=False)\n",
        "           )\n",
        "        self.decoder = nn.Sequential(\n",
        "            nn.Linear(2, N_Genes,bias=False)\n",
        "           )\n",
        "    #fucntion that makes the input flow in the network\n",
        "    def forward(self, x):\n",
        "        encoded=self.encoder(x) #compress the input\n",
        "        encoded_circ=encoded/torch.linalg.norm(encoded)\n",
        "        decoded=self.decoder(encoded_circ)\n",
        "\n",
        "        return decoded #encoded,encoded_circ \n",
        "        '''"
      ]
    },
    {
      "cell_type": "code",
      "execution_count": 31,
      "metadata": {
        "id": "1PuLTCWrmtpp"
      },
      "outputs": [],
      "source": [
        "class CircularEncoder(nn.Module):\n",
        "    def __init__(self):\n",
        "        super().__init__()\n",
        "        self.encoder = nn.Linear(N_Genes, 2,bias=False)\n",
        "        #self.encoder.weight=nn.Parameter(PCA_tensor)\n",
        "\n",
        "        self.decoder = nn.Linear(2, N_Genes,bias=False)\n",
        "        #self.decoder.weight=nn.Parameter(PCA_tensor.transpose(0,1))\n",
        "    \n",
        "    #fucntion that makes the input flow in the network\n",
        "    def forward(self, x):\n",
        "        encoded=self.encoder(x) #compress the input\n",
        "        encoded_circ=encoded/torch.linalg.norm(encoded)\n",
        "\n",
        "        decoded=self.decoder(encoded_circ)\n",
        "\n",
        "        return decoded #encoded,encoded_circ "
      ]
    },
    {
      "cell_type": "code",
      "execution_count": 32,
      "metadata": {
        "id": "McZTR4lRrQSH"
      },
      "outputs": [],
      "source": [
        "circ_model=CircularEncoder()\n",
        "criterion2= nn.MSELoss()\n",
        "optimizer2 = torch.optim.Adam(circ_model.parameters(), lr=0.001, betas=(0.9, 0.999), eps=1e-08, weight_decay=0, amsgrad=False)\n",
        "#optimizer2 = torch.optim.SGD(circ_model.parameters(),lr=0.001)\n"
      ]
    },
    {
      "cell_type": "code",
      "execution_count": 33,
      "metadata": {
        "colab": {
          "base_uri": "https://localhost:8080/",
          "height": 514
        },
        "id": "gY383NvurQSR",
        "outputId": "403ba492-9f6e-45de-9c26-dcccb606fd5a"
      },
      "outputs": [
        {
          "name": "stdout",
          "output_type": "stream",
          "text": [
            "epoch  0 Loss 6.149548053741455\n",
            "epoch  10 Loss 4.223137855529785\n",
            "epoch  20 Loss 2.7786865234375\n",
            "epoch  30 Loss 1.8783069849014282\n",
            "epoch  40 Loss 1.3196088075637817\n",
            "epoch  50 Loss 0.9458257555961609\n",
            "epoch  60 Loss 0.670967161655426\n",
            "epoch  70 Loss 0.4698009788990021\n",
            "epoch  80 Loss 0.3277948796749115\n",
            "epoch  90 Loss 0.23121218383312225\n",
            "epoch  100 Loss 0.16791380941867828\n",
            "epoch  110 Loss 0.12785592675209045\n",
            "epoch  120 Loss 0.10328059643507004\n",
            "epoch  130 Loss 0.08861153572797775\n",
            "epoch  140 Loss 0.0800875723361969\n",
            "epoch  150 Loss 0.07527158409357071\n",
            "epoch  160 Loss 0.07259919494390488\n",
            "epoch  170 Loss 0.07106812298297882\n",
            "epoch  180 Loss 0.07006660103797913\n",
            "epoch  190 Loss 0.06926766782999039\n",
            "epoch  200 Loss 0.06853503733873367\n",
            "epoch  210 Loss 0.06783351302146912\n",
            "epoch  220 Loss 0.06716690957546234\n",
            "epoch  230 Loss 0.06654787808656693\n",
            "epoch  240 Loss 0.06598616391420364\n",
            "epoch  250 Loss 0.0654875636100769\n",
            "epoch  260 Loss 0.06505347043275833\n",
            "epoch  270 Loss 0.06468302756547928\n",
            "epoch  280 Loss 0.06437262892723083\n",
            "epoch  290 Loss 0.06411779671907425\n"
          ]
        }
      ],
      "source": [
        "#recon= reconstruction of the input\n",
        "num_epochs=300\n",
        "outputs=[]\n",
        "\n",
        "for epoch in range(num_epochs):\n",
        "  for sample in range(N_Samples):\n",
        "    input=DATA[:,sample]\n",
        "    recon=circ_model(input)\n",
        "    loss=criterion2(recon,input)\n",
        "\n",
        "    optimizer2.zero_grad()\n",
        "    loss.backward()\n",
        "    optimizer2.step()\n",
        "  if (epoch % 10 ==0):\n",
        "    print(\"epoch \",epoch,\"Loss\", loss.item())"
      ]
    },
    {
      "cell_type": "code",
      "execution_count": 34,
      "metadata": {
        "id": "ze2eCCNcvH02"
      },
      "outputs": [
        {
          "name": "stdout",
          "output_type": "stream",
          "text": [
            "Parameter containing:\n",
            "tensor([[ 0.0449, -0.1209, -0.1741, -0.3645, -0.1324, -0.0654,  0.1000, -0.1798,\n",
            "         -0.1938, -0.0972, -0.3623,  0.1221],\n",
            "        [-0.2956, -0.1842, -0.1608,  0.0024, -0.2522, -0.1533,  0.0427,  0.3468,\n",
            "         -0.0734,  0.1039,  0.0656, -0.4716]], requires_grad=True)\n"
          ]
        }
      ],
      "source": [
        "circ_encoder_base=circ_model.encoder.weight\n",
        "print(encoder_base)\n",
        "circ_decoder_baseC=circ_model.decoder.weight\n",
        "#print(decoder_base)\n"
      ]
    },
    {
      "cell_type": "markdown",
      "metadata": {
        "id": "1-VARld3wftL"
      },
      "source": [
        "After having the values of the weight, in order to find the values of the neurons, i just reconstruct waht happens to the input until the the bottle neck (encoder linear layer + unit circle projection)"
      ]
    },
    {
      "cell_type": "code",
      "execution_count": 35,
      "metadata": {
        "colab": {
          "base_uri": "https://localhost:8080/"
        },
        "id": "8H2FHVVpvH0_",
        "outputId": "dc621866-6e7a-4f64-d75e-0e275adf6af9"
      },
      "outputs": [],
      "source": [
        "NNphasesC=np.zeros((2,N_Samples))\n",
        "for sample in range(N_Samples):\n",
        "  temp=torch.matmul(circ_encoder_base, DATA[:,sample]).detach().numpy()\n",
        "  NNphasesC[:,sample]=temp\n",
        "  NNphasesC[:,sample] /= np.linalg.norm(NNphasesC[:,sample])\n"
      ]
    },
    {
      "cell_type": "markdown",
      "metadata": {},
      "source": [
        "### Plots"
      ]
    },
    {
      "cell_type": "code",
      "execution_count": 36,
      "metadata": {
        "colab": {
          "base_uri": "https://localhost:8080/",
          "height": 283
        },
        "id": "DMrTS1F2vfr6",
        "outputId": "b1a51b65-13c2-4ac5-d4e6-df845c153b98"
      },
      "outputs": [
        {
          "data": {
            "text/plain": [
              "[<matplotlib.lines.Line2D at 0x7fa696079030>]"
            ]
          },
          "execution_count": 36,
          "metadata": {},
          "output_type": "execute_result"
        },
        {
          "data": {
            "image/png": "[encoded data removed]",
            "text/plain": [
              "<Figure size 640x480 with 1 Axes>"
            ]
          },
          "metadata": {},
          "output_type": "display_data"
        }
      ],
      "source": [
        "plt.plot(NNphasesC[0,:], NNphasesC[1,:],'o')"
      ]
    },
    {
      "cell_type": "code",
      "execution_count": 37,
      "metadata": {
        "id": "avIl_26lvfr7"
      },
      "outputs": [],
      "source": [
        "inf_phasesC=np.arctan2( NNphasesC[0,:],NNphasesC[1,:] )\n",
        "\n",
        "NNshifted_phiC,madNNC=optimal_shift(inf_phasesC, true_phases)"
      ]
    },
    {
      "cell_type": "code",
      "execution_count": 38,
      "metadata": {
        "colab": {
          "base_uri": "https://localhost:8080/",
          "height": 283
        },
        "id": "u9cSPT0yvfr7",
        "outputId": "62eb5d7d-03a1-4449-ec5c-85b270a7c65d"
      },
      "outputs": [
        {
          "data": {
            "text/plain": [
              "[<matplotlib.lines.Line2D at 0x7fa6960e8460>]"
            ]
          },
          "execution_count": 38,
          "metadata": {},
          "output_type": "execute_result"
        },
        {
          "data": {
            "image/png": "[encoded data removed]",
            "text/plain": [
              "<Figure size 640x480 with 1 Axes>"
            ]
          },
          "metadata": {},
          "output_type": "display_data"
        }
      ],
      "source": [
        "plt.plot(true_phases,NNshifted_phiC,'o')"
      ]
    },
    {
      "cell_type": "code",
      "execution_count": 39,
      "metadata": {},
      "outputs": [
        {
          "data": {
            "text/plain": [
              "290.2534098500308"
            ]
          },
          "execution_count": 39,
          "metadata": {},
          "output_type": "execute_result"
        }
      ],
      "source": [
        "sum((true_phases-NNshifted_phiC)**2)"
      ]
    },
    {
      "cell_type": "markdown",
      "metadata": {},
      "source": [
        "Outliers really impacat this way of mesuring the goodness of the fit"
      ]
    },
    {
      "cell_type": "code",
      "execution_count": 40,
      "metadata": {},
      "outputs": [
        {
          "name": "stdout",
          "output_type": "stream",
          "text": [
            "PCA  248.5143063371627\n",
            "Linear NN  296.741230676905\n",
            "Circular NN  290.2534098500308\n"
          ]
        }
      ],
      "source": [
        "print('PCA ', sum((true_phases-PCAshifted_phi)**2) )\n",
        "print('Linear NN ', sum((true_phases-NNshifted_phi)**2) )\n",
        "print('Circular NN ', sum((true_phases-NNshifted_phiC)**2) )"
      ]
    },
    {
      "cell_type": "markdown",
      "metadata": {},
      "source": [
        "MAD seems more appropriate\n"
      ]
    },
    {
      "cell_type": "code",
      "execution_count": 42,
      "metadata": {},
      "outputs": [
        {
          "name": "stdout",
          "output_type": "stream",
          "text": [
            "PCA  0.33878580216853926\n",
            "Linear NN  0.8179806681459931\n",
            "circular NN  0.8113977647913995\n"
          ]
        }
      ],
      "source": [
        "print('PCA ', madPCA )\n",
        "print('Linear NN ', madNN )\n",
        "print('circular NN ', madNNC )"
      ]
    },
    {
      "cell_type": "code",
      "execution_count": null,
      "metadata": {},
      "outputs": [],
      "source": []
    }
  ],
  "metadata": {
    "colab": {
      "provenance": []
    },
    "kernelspec": {
      "display_name": "Python 3.10.8 ('AE-env')",
      "language": "python",
      "name": "python3"
    },
    "language_info": {
      "codemirror_mode": {
        "name": "ipython",
        "version": 3
      },
      "file_extension": ".py",
      "mimetype": "text/x-python",
      "name": "python",
      "nbconvert_exporter": "python",
      "pygments_lexer": "ipython3",
      "version": "3.10.8"
    },
    "vscode": {
      "interpreter": {
        "hash": "55868c33616ece4b408063a597c8c8ce017b2fedaa1285a70b3ca86665b06584"
      }
    }
  },
  "nbformat": 4,
  "nbformat_minor": 0
}
