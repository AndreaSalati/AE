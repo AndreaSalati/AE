{
  "cells": [
    {
      "cell_type": "markdown",
      "metadata": {
        "id": "iaYVCdI2I2Oc"
      },
      "source": [
        "# **First** autoencoder"
      ]
    },
    {
      "cell_type": "markdown",
      "metadata": {},
      "source": [
        "This notebook contains three phaseinference methods: PCA, a fully-linear autoencoder (which is equivalent, but slightly worse than PCA) and finally a CIRCULAR-autoencoder. \n",
        "\n",
        "TO ADD:\n",
        "-add batch size!"
      ]
    },
    {
      "cell_type": "markdown",
      "metadata": {},
      "source": [
        "## Importing data"
      ]
    },
    {
      "cell_type": "code",
      "execution_count": 29,
      "metadata": {
        "id": "e_RNyOgSCrYP"
      },
      "outputs": [],
      "source": [
        "import numpy as np\n",
        "import torch\n",
        "import torch.nn as nn\n",
        "import torch.nn.functional as F\n",
        "\n",
        "import pandas as pd\n",
        "from sklearn.decomposition import PCA\n",
        "\n",
        "from DATA_generator import *\n",
        "\n",
        "%matplotlib inline\n",
        "import matplotlib.pyplot as plt\n",
        "\n",
        "#using lorenzos code from R\n",
        "#import rpy2.robjects as robjects\n",
        "#from rpy2.robjects import pandas2ri"
      ]
    },
    {
      "cell_type": "markdown",
      "metadata": {},
      "source": [
        "Real DATA"
      ]
    },
    {
      "cell_type": "code",
      "execution_count": 2,
      "metadata": {},
      "outputs": [],
      "source": [
        "bigData = pd.read_csv(\"/Users/salati/Documents/CODE/AE2/DATA/Muscle_exon.txt\", sep=\" \")\n",
        "#Taking only the rythmic genes\n",
        "PeriodicData=bigData.loc[[\"ENSG00000105516\", \"ENSG00000049246\", \"ENSG00000167074\", \"ENSG00000174738\", \"ENSG00000179094\", \"ENSG00000132326\" , \"ENSG00000170485\", \"ENSG00000133794\",\"ENSG00000126368\",\"ENSG00000008405\",\"ENSG00000121671\",\"ENSG00000159208\"]]\n",
        "PeriodicDataStandard=PeriodicData.sub(PeriodicData.mean(1), axis=0).div(PeriodicData.std(1), axis=0)\n"
      ]
    },
    {
      "cell_type": "code",
      "execution_count": 3,
      "metadata": {},
      "outputs": [],
      "source": [
        "#DATA=torch.tensor(PeriodicData.values)\n",
        "DATA=torch.tensor(PeriodicDataStandard.values)\n",
        "\n",
        "#E=np.array(PeriodicData.values)\n",
        "E=np.array(PeriodicDataStandard.values)\n",
        "DATA=DATA.float()\n",
        "\n",
        "\n",
        "true_phases=pd.read_csv(\"/Users/salati/Documents/CODE/AE2/DATA/true_phi.txt\",sep=\" \")\n",
        "true_phases=np.array(true_phases.values)\n",
        "true_phases=true_phases[:,0]"
      ]
    },
    {
      "cell_type": "markdown",
      "metadata": {},
      "source": [
        "Simulated DATA"
      ]
    },
    {
      "cell_type": "code",
      "execution_count": null,
      "metadata": {},
      "outputs": [],
      "source": [
        "N_Samples=56\n",
        "N_PeriodicGenes=12\n",
        "N_NonPeriodicGenes=0\n",
        "N_Genes=N_PeriodicGenes+N_NonPeriodicGenes\n",
        "NoiseSigma=0.7\n",
        "\n",
        "#E , true_phases, alpha=NonUniformDataGenerator(N_Samples=N_Samples, N_PeriodicGenes=N_PeriodicGenes,noise=True, N_NonPeriodicGenes=N_NonPeriodicGenes )\n",
        "E , true_phases, alpha=DataGenerator(N_Samples=N_Samples, N_PeriodicGenes=N_PeriodicGenes,noise=True, N_NonPeriodicGenes=N_NonPeriodicGenes , Means=False, NoiseSigma=NoiseSigma )\n",
        "\n",
        "DATA=torch.from_numpy(E)\n",
        "DATA=DATA.float()"
      ]
    },
    {
      "cell_type": "code",
      "execution_count": 4,
      "metadata": {},
      "outputs": [
        {
          "data": {
            "text/plain": [
              "57"
            ]
          },
          "execution_count": 4,
          "metadata": {},
          "output_type": "execute_result"
        }
      ],
      "source": [
        "N_Genes=DATA.shape[0]\n",
        "N_Samples=DATA.shape[1]\n",
        "N_Samples"
      ]
    },
    {
      "cell_type": "markdown",
      "metadata": {},
      "source": [
        "Select gene you are interested setting varaible g in order to plot data, and supposed distribution"
      ]
    },
    {
      "cell_type": "code",
      "execution_count": 5,
      "metadata": {},
      "outputs": [
        {
          "data": {
            "text/plain": [
              "[<matplotlib.lines.Line2D at 0x7ff27b13c640>]"
            ]
          },
          "execution_count": 5,
          "metadata": {},
          "output_type": "execute_result"
        },
        {
          "data": {
            "image/png": "[encoded data removed]",
            "text/plain": [
              "<Figure size 640x480 with 1 Axes>"
            ]
          },
          "metadata": {},
          "output_type": "display_data"
        }
      ],
      "source": [
        "plt.plot(true_phases,DATA[3,:], 'o')"
      ]
    },
    {
      "cell_type": "markdown",
      "metadata": {
        "id": "OKCawvYJyfxw"
      },
      "source": [
        "## PCA"
      ]
    },
    {
      "cell_type": "code",
      "execution_count": 6,
      "metadata": {
        "colab": {
          "base_uri": "https://localhost:8080/"
        },
        "id": "y2imPeGXo13Q",
        "outputId": "b3844d10-f6ff-4a72-ad49-e230e4eeedb0"
      },
      "outputs": [
        {
          "data": {
            "text/html": [
              "<style>#sk-container-id-1 {color: black;background-color: white;}#sk-container-id-1 pre{padding: 0;}#sk-container-id-1 div.sk-toggleable {background-color: white;}#sk-container-id-1 label.sk-toggleable__label {cursor: pointer;display: block;width: 100%;margin-bottom: 0;padding: 0.3em;box-sizing: border-box;text-align: center;}#sk-container-id-1 label.sk-toggleable__label-arrow:before {content: \"▸\";float: left;margin-right: 0.25em;color: #696969;}#sk-container-id-1 label.sk-toggleable__label-arrow:hover:before {color: black;}#sk-container-id-1 div.sk-estimator:hover label.sk-toggleable__label-arrow:before {color: black;}#sk-container-id-1 div.sk-toggleable__content {max-height: 0;max-width: 0;overflow: hidden;text-align: left;background-color: #f0f8ff;}#sk-container-id-1 div.sk-toggleable__content pre {margin: 0.2em;color: black;border-radius: 0.25em;background-color: #f0f8ff;}#sk-container-id-1 input.sk-toggleable__control:checked~div.sk-toggleable__content {max-height: 200px;max-width: 100%;overflow: auto;}#sk-container-id-1 input.sk-toggleable__control:checked~label.sk-toggleable__label-arrow:before {content: \"▾\";}#sk-container-id-1 div.sk-estimator input.sk-toggleable__control:checked~label.sk-toggleable__label {background-color: #d4ebff;}#sk-container-id-1 div.sk-label input.sk-toggleable__control:checked~label.sk-toggleable__label {background-color: #d4ebff;}#sk-container-id-1 input.sk-hidden--visually {border: 0;clip: rect(1px 1px 1px 1px);clip: rect(1px, 1px, 1px, 1px);height: 1px;margin: -1px;overflow: hidden;padding: 0;position: absolute;width: 1px;}#sk-container-id-1 div.sk-estimator {font-family: monospace;background-color: #f0f8ff;border: 1px dotted black;border-radius: 0.25em;box-sizing: border-box;margin-bottom: 0.5em;}#sk-container-id-1 div.sk-estimator:hover {background-color: #d4ebff;}#sk-container-id-1 div.sk-parallel-item::after {content: \"\";width: 100%;border-bottom: 1px solid gray;flex-grow: 1;}#sk-container-id-1 div.sk-label:hover label.sk-toggleable__label {background-color: #d4ebff;}#sk-container-id-1 div.sk-serial::before {content: \"\";position: absolute;border-left: 1px solid gray;box-sizing: border-box;top: 0;bottom: 0;left: 50%;z-index: 0;}#sk-container-id-1 div.sk-serial {display: flex;flex-direction: column;align-items: center;background-color: white;padding-right: 0.2em;padding-left: 0.2em;position: relative;}#sk-container-id-1 div.sk-item {position: relative;z-index: 1;}#sk-container-id-1 div.sk-parallel {display: flex;align-items: stretch;justify-content: center;background-color: white;position: relative;}#sk-container-id-1 div.sk-item::before, #sk-container-id-1 div.sk-parallel-item::before {content: \"\";position: absolute;border-left: 1px solid gray;box-sizing: border-box;top: 0;bottom: 0;left: 50%;z-index: -1;}#sk-container-id-1 div.sk-parallel-item {display: flex;flex-direction: column;z-index: 1;position: relative;background-color: white;}#sk-container-id-1 div.sk-parallel-item:first-child::after {align-self: flex-end;width: 50%;}#sk-container-id-1 div.sk-parallel-item:last-child::after {align-self: flex-start;width: 50%;}#sk-container-id-1 div.sk-parallel-item:only-child::after {width: 0;}#sk-container-id-1 div.sk-dashed-wrapped {border: 1px dashed gray;margin: 0 0.4em 0.5em 0.4em;box-sizing: border-box;padding-bottom: 0.4em;background-color: white;}#sk-container-id-1 div.sk-label label {font-family: monospace;font-weight: bold;display: inline-block;line-height: 1.2em;}#sk-container-id-1 div.sk-label-container {text-align: center;}#sk-container-id-1 div.sk-container {/* jupyter's `normalize.less` sets `[hidden] { display: none; }` but bootstrap.min.css set `[hidden] { display: none !important; }` so we also need the `!important` here to be able to override the default hidden behavior on the sphinx rendered scikit-learn.org. See: https://github.com/scikit-learn/scikit-learn/issues/21755 */display: inline-block !important;position: relative;}#sk-container-id-1 div.sk-text-repr-fallback {display: none;}</style><div id=\"sk-container-id-1\" class=\"sk-top-container\"><div class=\"sk-text-repr-fallback\"><pre>PCA(n_components=2)</pre><b>In a Jupyter environment, please rerun this cell to show the HTML representation or trust the notebook. <br />On GitHub, the HTML representation is unable to render, please try loading this page with nbviewer.org.</b></div><div class=\"sk-container\" hidden><div class=\"sk-item\"><div class=\"sk-estimator sk-toggleable\"><input class=\"sk-toggleable__control sk-hidden--visually\" id=\"sk-estimator-id-1\" type=\"checkbox\" checked><label for=\"sk-estimator-id-1\" class=\"sk-toggleable__label sk-toggleable__label-arrow\">PCA</label><div class=\"sk-toggleable__content\"><pre>PCA(n_components=2)</pre></div></div></div></div></div>"
            ],
            "text/plain": [
              "PCA(n_components=2)"
            ]
          },
          "execution_count": 6,
          "metadata": {},
          "output_type": "execute_result"
        }
      ],
      "source": [
        "Et=np.transpose(E)\n",
        "pca=PCA(n_components=2)\n",
        "pca.fit(Et)"
      ]
    },
    {
      "cell_type": "code",
      "execution_count": 7,
      "metadata": {
        "colab": {
          "base_uri": "https://localhost:8080/"
        },
        "id": "DvG03oqJuZq8",
        "outputId": "4d8e855f-aadf-4fd0-e0ab-09216cfc07fb"
      },
      "outputs": [
        {
          "name": "stdout",
          "output_type": "stream",
          "text": [
            "The two vectors are orthogonal, the scalar priduct is:  -5.898059818321144e-17\n"
          ]
        }
      ],
      "source": [
        "pca.explained_variance_ratio_\n",
        "PCA_base=pca.components_\n",
        "PCA_base=np.array(PCA_base)\n",
        "print('The two vectors are orthogonal, the scalar priduct is: ',np.matmul(PCA_base[0,:] ,PCA_base[1,:]) )\n"
      ]
    },
    {
      "cell_type": "code",
      "execution_count": 8,
      "metadata": {
        "colab": {
          "base_uri": "https://localhost:8080/"
        },
        "id": "hc5jT4bt5DyC",
        "outputId": "503294d1-4107-4d0a-8bbf-2218c8d774f7"
      },
      "outputs": [],
      "source": [
        "pca_points=pca.fit_transform(Et)"
      ]
    },
    {
      "cell_type": "code",
      "execution_count": 9,
      "metadata": {
        "colab": {
          "base_uri": "https://localhost:8080/",
          "height": 283
        },
        "id": "KWTTeh037_79",
        "outputId": "5cb4b1d9-3528-4bea-efa1-e8af3917b69a"
      },
      "outputs": [
        {
          "data": {
            "text/plain": [
              "[<matplotlib.lines.Line2D at 0x7ff27b239360>]"
            ]
          },
          "execution_count": 9,
          "metadata": {},
          "output_type": "execute_result"
        },
        {
          "data": {
            "image/png": "[encoded data removed]",
            "text/plain": [
              "<Figure size 640x480 with 1 Axes>"
            ]
          },
          "metadata": {},
          "output_type": "display_data"
        }
      ],
      "source": [
        "plt.plot(pca_points[:,0] , pca_points[:,1], 'o')"
      ]
    },
    {
      "cell_type": "code",
      "execution_count": 10,
      "metadata": {
        "id": "Ece-lw9f9czO"
      },
      "outputs": [
        {
          "data": {
            "text/plain": [
              "0.34751751567378264"
            ]
          },
          "execution_count": 10,
          "metadata": {},
          "output_type": "execute_result"
        }
      ],
      "source": [
        "from DATA_generator import *\n",
        "PCA_phi=np.arctan2(pca_points[:,0],pca_points[:,1])\n",
        "PCAshifted_phi,madPCA=optimal_shift(PCA_phi, true_phases)\n",
        "madPCA"
      ]
    },
    {
      "cell_type": "code",
      "execution_count": 11,
      "metadata": {
        "colab": {
          "base_uri": "https://localhost:8080/",
          "height": 283
        },
        "id": "AX6320fF-YT3",
        "outputId": "fcb219f3-e7d8-41f4-dcb2-f77c2051eba3"
      },
      "outputs": [
        {
          "data": {
            "text/plain": [
              "[<matplotlib.lines.Line2D at 0x7ff27b2b80d0>]"
            ]
          },
          "execution_count": 11,
          "metadata": {},
          "output_type": "execute_result"
        },
        {
          "data": {
            "image/png": "[encoded data removed]",
            "text/plain": [
              "<Figure size 640x480 with 1 Axes>"
            ]
          },
          "metadata": {},
          "output_type": "display_data"
        }
      ],
      "source": [
        "plt.plot(true_phases,PCAshifted_phi, 'o')"
      ]
    },
    {
      "cell_type": "markdown",
      "metadata": {
        "id": "e5ZDuFhHyUIR"
      },
      "source": [
        "## Torch Linear"
      ]
    },
    {
      "cell_type": "markdown",
      "metadata": {},
      "source": [
        "### Setting the network"
      ]
    },
    {
      "cell_type": "code",
      "execution_count": 12,
      "metadata": {},
      "outputs": [],
      "source": [
        "PCA_tensor=torch.tensor(PCA_base)\n",
        "PCA_tensor=PCA_tensor.float()"
      ]
    },
    {
      "cell_type": "markdown",
      "metadata": {},
      "source": [
        "Here we can choose how to initialize the weights, random or wioth the PCA base"
      ]
    },
    {
      "cell_type": "code",
      "execution_count": 13,
      "metadata": {},
      "outputs": [],
      "source": [
        "#defining by hand and random initializing the weights, we can also\n",
        "\n",
        "#encoder_w=torch.randn((2, N_Genes), requires_grad=True)\n",
        "encoder_w=PCA_tensor.clone().requires_grad_(True)\n",
        "\n",
        "#decoder_w=torch.randn((N_Genes, 2), requires_grad=True)\n",
        "decoder_w=PCA_tensor.transpose(0,1).clone().requires_grad_(True)"
      ]
    },
    {
      "cell_type": "markdown",
      "metadata": {
        "id": "fqw6R0zJCKcf"
      },
      "source": [
        "Here I create an instance of the class LinearEncoder and define other important stuff like the loss function"
      ]
    },
    {
      "cell_type": "code",
      "execution_count": 14,
      "metadata": {
        "id": "LU3xTg05BTWz"
      },
      "outputs": [],
      "source": [
        "criterion= nn.MSELoss()\n",
        "#optimizer = torch.optim.SGD(model.parameters(),lr=0.00001)\n",
        "#optimizer=torch.optim.Adam([encoder_w,decoder_w], lr=0.0001)\n",
        "optimizer = torch.optim.Adam([encoder_w,decoder_w], lr=0.001, betas=(0.9, 0.999), eps=1e-08, weight_decay=0, amsgrad=False)\n"
      ]
    },
    {
      "cell_type": "markdown",
      "metadata": {},
      "source": [
        "Training cycle"
      ]
    },
    {
      "cell_type": "code",
      "execution_count": 15,
      "metadata": {
        "id": "RTV9mvJlCm-0"
      },
      "outputs": [
        {
          "name": "stdout",
          "output_type": "stream",
          "text": [
            "epoch  0 Loss 0.05038977041840553\n",
            "epoch  50 Loss 0.05830012634396553\n",
            "epoch  100 Loss 0.05847476050257683\n",
            "epoch  150 Loss 0.05852128565311432\n",
            "epoch  200 Loss 0.05853809788823128\n",
            "epoch  250 Loss 0.05854574963450432\n",
            "epoch  300 Loss 0.058550432324409485\n",
            "epoch  350 Loss 0.05855420231819153\n",
            "epoch  400 Loss 0.058557529002428055\n",
            "epoch  450 Loss 0.058560628443956375\n",
            "epoch  500 Loss 0.05856366083025932\n",
            "epoch  550 Loss 0.05856666341423988\n",
            "epoch  600 Loss 0.058569762855768204\n",
            "epoch  650 Loss 0.05857256054878235\n",
            "epoch  700 Loss 0.058575376868247986\n",
            "epoch  750 Loss 0.05857820808887482\n",
            "epoch  800 Loss 0.05858081951737404\n",
            "epoch  850 Loss 0.058583348989486694\n",
            "epoch  900 Loss 0.05858622491359711\n",
            "epoch  950 Loss 0.05858849361538887\n",
            "epoch  1000 Loss 0.05859106406569481\n",
            "epoch  1050 Loss 0.058593276888132095\n",
            "epoch  1100 Loss 0.0585956908762455\n",
            "epoch  1150 Loss 0.05859780311584473\n",
            "epoch  1200 Loss 0.058600082993507385\n",
            "epoch  1250 Loss 0.05860261619091034\n",
            "epoch  1300 Loss 0.058604493737220764\n",
            "epoch  1350 Loss 0.05860646069049835\n",
            "epoch  1400 Loss 0.0586085207760334\n",
            "epoch  1450 Loss 0.058610398322343826\n",
            "epoch  1500 Loss 0.05861246585845947\n",
            "epoch  1550 Loss 0.05861414596438408\n",
            "epoch  1600 Loss 0.058616045862436295\n",
            "epoch  1650 Loss 0.058617886155843735\n",
            "epoch  1700 Loss 0.05861980840563774\n",
            "epoch  1750 Loss 0.05862153694033623\n",
            "epoch  1800 Loss 0.05862320959568024\n",
            "epoch  1850 Loss 0.05862481892108917\n",
            "epoch  1900 Loss 0.05862654373049736\n",
            "epoch  1950 Loss 0.05862826108932495\n"
          ]
        }
      ],
      "source": [
        "#recon= reconstruction of the input\n",
        "num_epochs=2000\n",
        "outputs=[]\n",
        "\n",
        "for epoch in range(num_epochs):\n",
        " \n",
        "  for sample in range(N_Samples):\n",
        "    input=DATA[:,sample]\n",
        "    #print(\"input \",input.shape)\n",
        "    hidden=F.linear( input, encoder_w)\n",
        "    #print(\"hidden \",hidden)\n",
        "    recon=F.linear( hidden, decoder_w)\n",
        "    #print('recon ' ,recon)\n",
        "    loss=criterion(recon,input)\n",
        "\n",
        "    optimizer.zero_grad()\n",
        "    loss.backward()\n",
        "    optimizer.step()\n",
        "    #added this line to compare with the circular model, thisline block the convergence\n",
        "  if loss.item() < 0.0005 :\n",
        "    break\n",
        "  if (epoch % 50 ==0):\n",
        "    print(\"epoch \",epoch,\"Loss\", loss.item())"
      ]
    },
    {
      "cell_type": "code",
      "execution_count": 16,
      "metadata": {},
      "outputs": [],
      "source": [
        "NNphases=np.zeros((N_Samples,2))\n",
        "for sample in range(N_Samples):\n",
        "    input=DATA[:,sample]\n",
        "    \n",
        "    hidden=F.linear( input, encoder_w).detach().numpy()\n",
        "    NNphases[sample,:]=hidden\n",
        "    \n",
        "    #added this line to compare with the circular model, thisline block the convergence"
      ]
    },
    {
      "cell_type": "markdown",
      "metadata": {},
      "source": [
        "with torch.no_grad():\n",
        "    for X, y in test_dataloader:\n",
        "        outputs = model(X)\n",
        "        predicted = np.where(outputs < 0.5, 0, 1)\n",
        "        predicted = list(itertools.chain(*predicted))\n",
        "        y_pred.append(predicted)\n",
        "        y_test.append(y)\n",
        "        total += y.size(0)\n",
        "        correct += (predicted == y.numpy()).sum().item()"
      ]
    },
    {
      "cell_type": "markdown",
      "metadata": {},
      "source": [
        "### Plots"
      ]
    },
    {
      "cell_type": "code",
      "execution_count": 17,
      "metadata": {
        "colab": {
          "base_uri": "https://localhost:8080/",
          "height": 283
        },
        "id": "7EazKNhyLVc-",
        "outputId": "c9536c54-a469-48b2-e617-5772f764faf6"
      },
      "outputs": [
        {
          "data": {
            "text/plain": [
              "[<matplotlib.lines.Line2D at 0x7ff27b2ffd00>]"
            ]
          },
          "execution_count": 17,
          "metadata": {},
          "output_type": "execute_result"
        },
        {
          "data": {
            "image/png": "[encoded data removed]",
            "text/plain": [
              "<Figure size 640x480 with 1 Axes>"
            ]
          },
          "metadata": {},
          "output_type": "display_data"
        }
      ],
      "source": [
        "plt.plot(NNphases[:,0], NNphases[:,1],'o')"
      ]
    },
    {
      "cell_type": "code",
      "execution_count": 18,
      "metadata": {
        "id": "698mgzh3LCvH"
      },
      "outputs": [
        {
          "data": {
            "text/plain": [
              "0.3385907091577849"
            ]
          },
          "execution_count": 18,
          "metadata": {},
          "output_type": "execute_result"
        }
      ],
      "source": [
        "inf_phases=np.arctan2( NNphases[:,0],NNphases[:,1] )\n",
        "NNshifted_phi,madNN=optimal_shift(inf_phases, true_phases)\n",
        "madNN"
      ]
    },
    {
      "cell_type": "code",
      "execution_count": 19,
      "metadata": {
        "colab": {
          "base_uri": "https://localhost:8080/",
          "height": 285
        },
        "id": "80qCm_9pNC5R",
        "outputId": "25e8492c-8238-4688-d8e3-d947e9b34e17"
      },
      "outputs": [
        {
          "data": {
            "text/plain": [
              "[<matplotlib.lines.Line2D at 0x7ff289182350>]"
            ]
          },
          "execution_count": 19,
          "metadata": {},
          "output_type": "execute_result"
        },
        {
          "data": {
            "image/png": "[encoded data removed]",
            "text/plain": [
              "<Figure size 640x480 with 1 Axes>"
            ]
          },
          "metadata": {},
          "output_type": "display_data"
        }
      ],
      "source": [
        "plt.plot(true_phases,NNshifted_phi,'o')"
      ]
    },
    {
      "cell_type": "markdown",
      "metadata": {
        "id": "Gljp-hr0jVkz"
      },
      "source": [
        "## Adding the \"circular\" activation function"
      ]
    },
    {
      "cell_type": "markdown",
      "metadata": {},
      "source": [
        "### Setting the network"
      ]
    },
    {
      "cell_type": "code",
      "execution_count": 20,
      "metadata": {
        "id": "1PuLTCWrmtpp"
      },
      "outputs": [],
      "source": [
        "#defining by hand and random initializing the weights, we can also use the PCA values to initialise\n",
        "\n",
        "#encoderC_w=torch.randn((2, N_Genes), requires_grad=True)\n",
        "#decoderC_w=torch.randn((N_Genes, 2), requires_grad=True)\n",
        "\n",
        "encoderC_w=PCA_tensor.clone().requires_grad_(True)\n",
        "decoderC_w=PCA_tensor.transpose(0,1).clone().requires_grad_(True)"
      ]
    },
    {
      "cell_type": "code",
      "execution_count": 21,
      "metadata": {
        "id": "McZTR4lRrQSH"
      },
      "outputs": [],
      "source": [
        "criterionC= nn.MSELoss()\n",
        "optimizerC = torch.optim.Adam([encoderC_w,decoderC_w], lr=0.0001, betas=(0.9, 0.999), eps=1e-08, weight_decay=0, amsgrad=False)\n",
        "#optimizer2 = torch.optim.SGD(circ_model.parameters(),lr=0.001)"
      ]
    },
    {
      "cell_type": "code",
      "execution_count": 22,
      "metadata": {
        "colab": {
          "base_uri": "https://localhost:8080/",
          "height": 514
        },
        "id": "gY383NvurQSR",
        "outputId": "403ba492-9f6e-45de-9c26-dcccb606fd5a"
      },
      "outputs": [
        {
          "name": "stdout",
          "output_type": "stream",
          "text": [
            "epoch  0 Loss 0.6296353936195374\n",
            "epoch  500 Loss 0.5388772487640381\n",
            "epoch  1000 Loss 0.4534622132778168\n",
            "epoch  1500 Loss 0.3760467767715454\n",
            "epoch  2000 Loss 0.30764925479888916\n",
            "epoch  2500 Loss 0.24826039373874664\n",
            "epoch  3000 Loss 0.19740641117095947\n",
            "epoch  3500 Loss 0.15444283187389374\n",
            "epoch  4000 Loss 0.11867433041334152\n",
            "epoch  4500 Loss 0.08939238637685776\n",
            "epoch  5000 Loss 0.06588149815797806\n",
            "epoch  5500 Loss 0.0474187470972538\n",
            "epoch  6000 Loss 0.03327321633696556\n",
            "epoch  6500 Loss 0.022712064906954765\n",
            "epoch  7000 Loss 0.015024232678115368\n",
            "epoch  7500 Loss 0.009563375264406204\n",
            "epoch  8000 Loss 0.005788274575024843\n",
            "epoch  8500 Loss 0.003274463815614581\n",
            "epoch  9000 Loss 0.0016914838925004005\n",
            "epoch  9500 Loss 0.0007723296876065433\n"
          ]
        }
      ],
      "source": [
        "num_epochs=30000\n",
        "\n",
        "for epoch in range(num_epochs):\n",
        " \n",
        "  for sample in range(N_Samples):\n",
        "    input=DATA[:,sample]\n",
        "   \n",
        "    hidden=F.linear( input, encoderC_w)\n",
        "    #print(\"hidden \",hidden)\n",
        "    hiddenC=hidden/torch.linalg.norm(hidden)\n",
        "    #print(\"hiddenC \",hiddenC)\n",
        "    recon=F.linear( hiddenC, decoderC_w)\n",
        "    #print('recon ' ,recon)\n",
        "    loss=criterionC(recon,input)\n",
        "\n",
        "  optimizerC.zero_grad()\n",
        "  loss.backward()\n",
        "  optimizerC.step()\n",
        "\n",
        "  if loss.item() < 0.0005 :\n",
        "    break\n",
        "  if (epoch % 500 ==0):\n",
        "    print(\"epoch \",epoch,\"Loss\", loss.item())"
      ]
    },
    {
      "cell_type": "markdown",
      "metadata": {
        "id": "1-VARld3wftL"
      },
      "source": [
        "After having the values of the weight, in order to find the values of the neurons, i just reconstruct waht happens to the input until the the bottle neck (encoder linear layer + unit circle projection)"
      ]
    },
    {
      "cell_type": "code",
      "execution_count": 23,
      "metadata": {
        "colab": {
          "base_uri": "https://localhost:8080/"
        },
        "id": "8H2FHVVpvH0_",
        "outputId": "dc621866-6e7a-4f64-d75e-0e275adf6af9"
      },
      "outputs": [],
      "source": [
        "NNphasesC=np.zeros((N_Samples,2))\n",
        "\n",
        "for sample in range(N_Samples):#range(N_Samples):\n",
        "    input=DATA[:,sample]\n",
        "    #print(input)\n",
        "    \n",
        "    hidden=F.linear( input, encoderC_w)\n",
        "    #print(\"hidden \",hidden)\n",
        "    hiddenC=hidden/torch.linalg.norm(hidden)\n",
        "    #print(\"hiddenC \",hiddenC.detach().numpy() )\n",
        "    NNphasesC[sample,:]=hiddenC.detach().numpy()\n",
        "    "
      ]
    },
    {
      "cell_type": "markdown",
      "metadata": {},
      "source": [
        "### Plots"
      ]
    },
    {
      "cell_type": "code",
      "execution_count": 24,
      "metadata": {
        "colab": {
          "base_uri": "https://localhost:8080/",
          "height": 283
        },
        "id": "DMrTS1F2vfr6",
        "outputId": "b1a51b65-13c2-4ac5-d4e6-df845c153b98"
      },
      "outputs": [
        {
          "data": {
            "text/plain": [
              "[<matplotlib.lines.Line2D at 0x7ff2891f5540>]"
            ]
          },
          "execution_count": 24,
          "metadata": {},
          "output_type": "execute_result"
        },
        {
          "data": {
            "image/png": "[encoded data removed]",
            "text/plain": [
              "<Figure size 640x480 with 1 Axes>"
            ]
          },
          "metadata": {},
          "output_type": "display_data"
        }
      ],
      "source": [
        "plt.plot(NNphasesC[:,0], NNphasesC[:,1],'o')"
      ]
    },
    {
      "cell_type": "code",
      "execution_count": 25,
      "metadata": {
        "id": "avIl_26lvfr7"
      },
      "outputs": [],
      "source": [
        "inf_phasesC=np.arctan2( NNphasesC[:,0],NNphasesC[:,1] )\n",
        "\n",
        "NNshifted_phiC,madNNC=optimal_shift(inf_phasesC, true_phases)"
      ]
    },
    {
      "cell_type": "code",
      "execution_count": 26,
      "metadata": {
        "colab": {
          "base_uri": "https://localhost:8080/",
          "height": 283
        },
        "id": "u9cSPT0yvfr7",
        "outputId": "62eb5d7d-03a1-4449-ec5c-85b270a7c65d"
      },
      "outputs": [
        {
          "data": {
            "text/plain": [
              "[<matplotlib.lines.Line2D at 0x7ff26b63d780>]"
            ]
          },
          "execution_count": 26,
          "metadata": {},
          "output_type": "execute_result"
        },
        {
          "data": {
            "image/png": "[encoded data removed]",
            "text/plain": [
              "<Figure size 640x480 with 1 Axes>"
            ]
          },
          "metadata": {},
          "output_type": "display_data"
        }
      ],
      "source": [
        "plt.plot(true_phases,NNshifted_phiC,'o')"
      ]
    },
    {
      "cell_type": "markdown",
      "metadata": {},
      "source": [
        "Outliers really impacat this way of mesuring the goodness of the fit"
      ]
    },
    {
      "cell_type": "code",
      "execution_count": 27,
      "metadata": {},
      "outputs": [
        {
          "name": "stdout",
          "output_type": "stream",
          "text": [
            "PCA  228.80398614752872\n",
            "Linear NN  245.31385819330058\n",
            "Circular NN  167.86937092059986\n"
          ]
        }
      ],
      "source": [
        "print('PCA ', sum((true_phases-PCAshifted_phi)**2) )\n",
        "print('Linear NN ', sum((true_phases-NNshifted_phi)**2) )\n",
        "print('Circular NN ', sum((true_phases-NNshifted_phiC)**2) )"
      ]
    },
    {
      "cell_type": "markdown",
      "metadata": {},
      "source": [
        "MAD seems more appropriate\n"
      ]
    },
    {
      "cell_type": "code",
      "execution_count": 28,
      "metadata": {},
      "outputs": [
        {
          "name": "stdout",
          "output_type": "stream",
          "text": [
            "PCA  0.34751751567378264\n",
            "Linear NN  0.3385907091577849\n",
            "circular NN  0.28706476036636097\n"
          ]
        }
      ],
      "source": [
        "print('PCA ', madPCA )\n",
        "print('Linear NN ', madNN )\n",
        "print('circular NN ', madNNC )"
      ]
    },
    {
      "cell_type": "code",
      "execution_count": null,
      "metadata": {},
      "outputs": [],
      "source": []
    }
  ],
  "metadata": {
    "colab": {
      "provenance": []
    },
    "kernelspec": {
      "display_name": "Python 3.10.8 ('AE-env')",
      "language": "python",
      "name": "python3"
    },
    "language_info": {
      "codemirror_mode": {
        "name": "ipython",
        "version": 3
      },
      "file_extension": ".py",
      "mimetype": "text/x-python",
      "name": "python",
      "nbconvert_exporter": "python",
      "pygments_lexer": "ipython3",
      "version": "3.10.8"
    },
    "vscode": {
      "interpreter": {
        "hash": "55868c33616ece4b408063a597c8c8ce017b2fedaa1285a70b3ca86665b06584"
      }
    }
  },
  "nbformat": 4,
  "nbformat_minor": 0
}
