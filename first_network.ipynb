{
  "cells": [
    {
      "cell_type": "markdown",
      "metadata": {
        "id": "iaYVCdI2I2Oc"
      },
      "source": [
        "# **First** autoencoder"
      ]
    },
    {
      "cell_type": "markdown",
      "metadata": {},
      "source": [
        "## Importing data"
      ]
    },
    {
      "cell_type": "code",
      "execution_count": 15,
      "metadata": {
        "id": "e_RNyOgSCrYP"
      },
      "outputs": [],
      "source": [
        "import numpy as np\n",
        "import torch\n",
        "import torch.nn as nn\n",
        "import pandas as pd\n",
        "\n",
        "#from DATA_generator import *\n",
        "\n",
        "%matplotlib inline\n",
        "import matplotlib.pyplot as plt\n",
        "\n",
        "from sklearn.decomposition import PCA\n",
        "\n",
        "#using lorenzos code from R\n",
        "#import rpy2.robjects as robjects\n",
        "#from rpy2.robjects import pandas2ri"
      ]
    },
    {
      "cell_type": "code",
      "execution_count": 16,
      "metadata": {},
      "outputs": [],
      "source": [
        "bigData = pd.read_csv(\"/home/salati/CHIRAL/Pkg/CHIRAL/Example/Muscle_exon.txt\", sep=\" \")\n",
        "#Taking only the rythmic genes\n",
        "PeriodicData=bigData.loc[[\"ENSG00000105516\", \"ENSG00000049246\", \"ENSG00000167074\", \"ENSG00000174738\", \"ENSG00000179094\", \"ENSG00000132326\" , \"ENSG00000170485\", \"ENSG00000133794\",\"ENSG00000126368\",\"ENSG00000008405\",\"ENSG00000121671\",\"ENSG00000159208\"]]\n",
        "DATA=torch.tensor(PeriodicData.values)\n",
        "DATA=DATA.float()\n",
        "E=np.array(PeriodicData.values)"
      ]
    },
    {
      "cell_type": "code",
      "execution_count": 17,
      "metadata": {},
      "outputs": [],
      "source": [
        "true_phases=pd.read_csv(\"/home/salati/CHIRAL/Pkg/CHIRAL/Example/true_phi.txt\",sep=\" \")"
      ]
    },
    {
      "cell_type": "code",
      "execution_count": 18,
      "metadata": {},
      "outputs": [
        {
          "data": {
            "text/plain": [
              "57"
            ]
          },
          "execution_count": 18,
          "metadata": {},
          "output_type": "execute_result"
        }
      ],
      "source": [
        "N_Genes=DATA.shape[0]\n",
        "N_Samples=DATA.shape[1]\n",
        "N_Samples"
      ]
    },
    {
      "cell_type": "markdown",
      "metadata": {},
      "source": [
        "Select gene you are interested setting varaible g in order to plot data, and supposed distribution"
      ]
    },
    {
      "cell_type": "code",
      "execution_count": 19,
      "metadata": {},
      "outputs": [
        {
          "data": {
            "text/plain": [
              "[<matplotlib.lines.Line2D at 0x7f918daa0ca0>]"
            ]
          },
          "execution_count": 19,
          "metadata": {},
          "output_type": "execute_result"
        },
        {
          "data": {
            "image/png": "[encoded data removed]",
            "text/plain": [
              "<Figure size 640x480 with 1 Axes>"
            ]
          },
          "metadata": {},
          "output_type": "display_data"
        }
      ],
      "source": [
        "plt.plot(DATA[1,:], 'o')"
      ]
    },
    {
      "cell_type": "markdown",
      "metadata": {
        "id": "OKCawvYJyfxw"
      },
      "source": [
        "## PCA"
      ]
    },
    {
      "cell_type": "code",
      "execution_count": 20,
      "metadata": {
        "colab": {
          "base_uri": "https://localhost:8080/"
        },
        "id": "y2imPeGXo13Q",
        "outputId": "b3844d10-f6ff-4a72-ad49-e230e4eeedb0"
      },
      "outputs": [
        {
          "data": {
            "text/html": [
              "<style>#sk-container-id-2 {color: black;background-color: white;}#sk-container-id-2 pre{padding: 0;}#sk-container-id-2 div.sk-toggleable {background-color: white;}#sk-container-id-2 label.sk-toggleable__label {cursor: pointer;display: block;width: 100%;margin-bottom: 0;padding: 0.3em;box-sizing: border-box;text-align: center;}#sk-container-id-2 label.sk-toggleable__label-arrow:before {content: \"▸\";float: left;margin-right: 0.25em;color: #696969;}#sk-container-id-2 label.sk-toggleable__label-arrow:hover:before {color: black;}#sk-container-id-2 div.sk-estimator:hover label.sk-toggleable__label-arrow:before {color: black;}#sk-container-id-2 div.sk-toggleable__content {max-height: 0;max-width: 0;overflow: hidden;text-align: left;background-color: #f0f8ff;}#sk-container-id-2 div.sk-toggleable__content pre {margin: 0.2em;color: black;border-radius: 0.25em;background-color: #f0f8ff;}#sk-container-id-2 input.sk-toggleable__control:checked~div.sk-toggleable__content {max-height: 200px;max-width: 100%;overflow: auto;}#sk-container-id-2 input.sk-toggleable__control:checked~label.sk-toggleable__label-arrow:before {content: \"▾\";}#sk-container-id-2 div.sk-estimator input.sk-toggleable__control:checked~label.sk-toggleable__label {background-color: #d4ebff;}#sk-container-id-2 div.sk-label input.sk-toggleable__control:checked~label.sk-toggleable__label {background-color: #d4ebff;}#sk-container-id-2 input.sk-hidden--visually {border: 0;clip: rect(1px 1px 1px 1px);clip: rect(1px, 1px, 1px, 1px);height: 1px;margin: -1px;overflow: hidden;padding: 0;position: absolute;width: 1px;}#sk-container-id-2 div.sk-estimator {font-family: monospace;background-color: #f0f8ff;border: 1px dotted black;border-radius: 0.25em;box-sizing: border-box;margin-bottom: 0.5em;}#sk-container-id-2 div.sk-estimator:hover {background-color: #d4ebff;}#sk-container-id-2 div.sk-parallel-item::after {content: \"\";width: 100%;border-bottom: 1px solid gray;flex-grow: 1;}#sk-container-id-2 div.sk-label:hover label.sk-toggleable__label {background-color: #d4ebff;}#sk-container-id-2 div.sk-serial::before {content: \"\";position: absolute;border-left: 1px solid gray;box-sizing: border-box;top: 0;bottom: 0;left: 50%;z-index: 0;}#sk-container-id-2 div.sk-serial {display: flex;flex-direction: column;align-items: center;background-color: white;padding-right: 0.2em;padding-left: 0.2em;position: relative;}#sk-container-id-2 div.sk-item {position: relative;z-index: 1;}#sk-container-id-2 div.sk-parallel {display: flex;align-items: stretch;justify-content: center;background-color: white;position: relative;}#sk-container-id-2 div.sk-item::before, #sk-container-id-2 div.sk-parallel-item::before {content: \"\";position: absolute;border-left: 1px solid gray;box-sizing: border-box;top: 0;bottom: 0;left: 50%;z-index: -1;}#sk-container-id-2 div.sk-parallel-item {display: flex;flex-direction: column;z-index: 1;position: relative;background-color: white;}#sk-container-id-2 div.sk-parallel-item:first-child::after {align-self: flex-end;width: 50%;}#sk-container-id-2 div.sk-parallel-item:last-child::after {align-self: flex-start;width: 50%;}#sk-container-id-2 div.sk-parallel-item:only-child::after {width: 0;}#sk-container-id-2 div.sk-dashed-wrapped {border: 1px dashed gray;margin: 0 0.4em 0.5em 0.4em;box-sizing: border-box;padding-bottom: 0.4em;background-color: white;}#sk-container-id-2 div.sk-label label {font-family: monospace;font-weight: bold;display: inline-block;line-height: 1.2em;}#sk-container-id-2 div.sk-label-container {text-align: center;}#sk-container-id-2 div.sk-container {/* jupyter's `normalize.less` sets `[hidden] { display: none; }` but bootstrap.min.css set `[hidden] { display: none !important; }` so we also need the `!important` here to be able to override the default hidden behavior on the sphinx rendered scikit-learn.org. See: https://github.com/scikit-learn/scikit-learn/issues/21755 */display: inline-block !important;position: relative;}#sk-container-id-2 div.sk-text-repr-fallback {display: none;}</style><div id=\"sk-container-id-2\" class=\"sk-top-container\"><div class=\"sk-text-repr-fallback\"><pre>PCA(n_components=2)</pre><b>In a Jupyter environment, please rerun this cell to show the HTML representation or trust the notebook. <br />On GitHub, the HTML representation is unable to render, please try loading this page with nbviewer.org.</b></div><div class=\"sk-container\" hidden><div class=\"sk-item\"><div class=\"sk-estimator sk-toggleable\"><input class=\"sk-toggleable__control sk-hidden--visually\" id=\"sk-estimator-id-2\" type=\"checkbox\" checked><label for=\"sk-estimator-id-2\" class=\"sk-toggleable__label sk-toggleable__label-arrow\">PCA</label><div class=\"sk-toggleable__content\"><pre>PCA(n_components=2)</pre></div></div></div></div></div>"
            ],
            "text/plain": [
              "PCA(n_components=2)"
            ]
          },
          "execution_count": 20,
          "metadata": {},
          "output_type": "execute_result"
        }
      ],
      "source": [
        "Et=np.transpose(E)\n",
        "pca=PCA(n_components=2)\n",
        "pca.fit(Et)"
      ]
    },
    {
      "cell_type": "code",
      "execution_count": 21,
      "metadata": {
        "colab": {
          "base_uri": "https://localhost:8080/"
        },
        "id": "DvG03oqJuZq8",
        "outputId": "4d8e855f-aadf-4fd0-e0ab-09216cfc07fb"
      },
      "outputs": [
        {
          "name": "stdout",
          "output_type": "stream",
          "text": [
            "The two vectors are orthogonal, the scalar priduct is:  -2.7755575615628914e-17\n"
          ]
        }
      ],
      "source": [
        "pca.explained_variance_ratio_\n",
        "PCA_base=pca.components_\n",
        "PCA_base=np.array(PCA_base)\n",
        "print('The two vectors are orthogonal, the scalar priduct is: ',np.matmul(PCA_base[0,:] ,PCA_base[1,:]) )\n"
      ]
    },
    {
      "cell_type": "code",
      "execution_count": 22,
      "metadata": {
        "colab": {
          "base_uri": "https://localhost:8080/"
        },
        "id": "hc5jT4bt5DyC",
        "outputId": "503294d1-4107-4d0a-8bbf-2218c8d774f7"
      },
      "outputs": [],
      "source": [
        "pca_points=pca.fit_transform(Et)"
      ]
    },
    {
      "cell_type": "code",
      "execution_count": 23,
      "metadata": {
        "colab": {
          "base_uri": "https://localhost:8080/",
          "height": 283
        },
        "id": "KWTTeh037_79",
        "outputId": "5cb4b1d9-3528-4bea-efa1-e8af3917b69a"
      },
      "outputs": [
        {
          "data": {
            "text/plain": [
              "[<matplotlib.lines.Line2D at 0x7f918dc151e0>]"
            ]
          },
          "execution_count": 23,
          "metadata": {},
          "output_type": "execute_result"
        },
        {
          "data": {
            "image/png": "[encoded data removed]",
            "text/plain": [
              "<Figure size 640x480 with 1 Axes>"
            ]
          },
          "metadata": {},
          "output_type": "display_data"
        }
      ],
      "source": [
        "plt.plot(pca_points[:,0] , pca_points[:,1], 'o')"
      ]
    },
    {
      "cell_type": "code",
      "execution_count": 24,
      "metadata": {
        "id": "Ece-lw9f9czO"
      },
      "outputs": [],
      "source": [
        "PCA_phi=np.arctan2(pca_points[:,0],pca_points[:,1])"
      ]
    },
    {
      "cell_type": "code",
      "execution_count": 25,
      "metadata": {
        "colab": {
          "base_uri": "https://localhost:8080/",
          "height": 283
        },
        "id": "AX6320fF-YT3",
        "outputId": "fcb219f3-e7d8-41f4-dcb2-f77c2051eba3"
      },
      "outputs": [
        {
          "data": {
            "text/plain": [
              "[<matplotlib.lines.Line2D at 0x7f918dc575e0>]"
            ]
          },
          "execution_count": 25,
          "metadata": {},
          "output_type": "execute_result"
        },
        {
          "data": {
            "image/png": "[encoded data removed]",
            "text/plain": [
              "<Figure size 640x480 with 1 Axes>"
            ]
          },
          "metadata": {},
          "output_type": "display_data"
        }
      ],
      "source": [
        "plt.plot(true_phases,PCA_phi, 'o')"
      ]
    },
    {
      "cell_type": "markdown",
      "metadata": {
        "id": "e5ZDuFhHyUIR"
      },
      "source": [
        "## Torch Linear"
      ]
    },
    {
      "cell_type": "markdown",
      "metadata": {},
      "source": [
        "### Setting the network"
      ]
    },
    {
      "cell_type": "code",
      "execution_count": 26,
      "metadata": {},
      "outputs": [],
      "source": [
        "PCA_tensor=torch.tensor(PCA_base)\n",
        "PCA_tensor=PCA_tensor.float()"
      ]
    },
    {
      "cell_type": "code",
      "execution_count": 27,
      "metadata": {},
      "outputs": [],
      "source": [
        "class LinearEncoder(nn.Module):\n",
        "    def __init__(self):\n",
        "        super().__init__()\n",
        "        self.encoder = nn.Linear(N_Genes, 2,bias=False)\n",
        "        #self.encoder.weight=nn.Parameter(PCA_tensor)\n",
        "\n",
        "        self.decoder = nn.Linear(2, N_Genes,bias=False)\n",
        "        #self.decoder.weight=nn.Parameter(PCA_tensor.transpose(0,1))\n",
        "           \n",
        "    #fucntion that makes the input flow in the network\n",
        "    def forward(self, x):\n",
        "        encoded=self.encoder(x) #compress the input\n",
        "        decoded=self.decoder(encoded)\n",
        "\n",
        "        return decoded"
      ]
    },
    {
      "cell_type": "markdown",
      "metadata": {
        "id": "fqw6R0zJCKcf"
      },
      "source": [
        "Here I create an instance of the class LinearEncoder and define other important stuff like the loss function"
      ]
    },
    {
      "cell_type": "code",
      "execution_count": 28,
      "metadata": {
        "id": "LU3xTg05BTWz"
      },
      "outputs": [],
      "source": [
        "model = LinearEncoder()\n",
        "criterion= nn.MSELoss()\n",
        "#optimizer = torch.optim.SGD(model.parameters(),lr=0.00001)\n",
        "optimizer=torch.optim.Adam(model.parameters(), lr=0.001, betas=(0.9, 0.999), eps=1e-08, weight_decay=0, amsgrad=False)\n"
      ]
    },
    {
      "cell_type": "markdown",
      "metadata": {},
      "source": [
        "Adding the GPU stuff"
      ]
    },
    {
      "cell_type": "code",
      "execution_count": 29,
      "metadata": {},
      "outputs": [],
      "source": [
        "#for GPU use this block\n",
        "\n",
        "#device = torch.device('mps')\n",
        "#E_t=torch.from_numpy(E)\n",
        "#E_t=E_t.float()\n",
        "#DATA=torch.tensor(E_t,  device=device)\n",
        "#model.to(device)\n",
        "\n",
        "\n",
        "# for CPU keep this line"
      ]
    },
    {
      "cell_type": "markdown",
      "metadata": {},
      "source": [
        "Training cycle"
      ]
    },
    {
      "cell_type": "code",
      "execution_count": 30,
      "metadata": {
        "id": "RTV9mvJlCm-0"
      },
      "outputs": [
        {
          "name": "stdout",
          "output_type": "stream",
          "text": [
            "epoch  0 Loss 9.125815391540527\n",
            "epoch  30 Loss 0.4364248216152191\n",
            "epoch  60 Loss 0.4199622571468353\n",
            "epoch  90 Loss 0.3571462631225586\n",
            "epoch  120 Loss 0.19812895357608795\n",
            "epoch  150 Loss 0.07516071200370789\n",
            "epoch  180 Loss 0.055325698107481\n",
            "epoch  210 Loss 0.051441092044115067\n",
            "epoch  240 Loss 0.05030073598027229\n",
            "epoch  270 Loss 0.04987481236457825\n",
            "epoch  300 Loss 0.04975997284054756\n",
            "epoch  330 Loss 0.04973706603050232\n",
            "epoch  360 Loss 0.04974629357457161\n",
            "epoch  390 Loss 0.049767788499593735\n",
            "epoch  420 Loss 0.04979350045323372\n",
            "epoch  450 Loss 0.04982032999396324\n",
            "epoch  480 Loss 0.049847543239593506\n",
            "epoch  510 Loss 0.049874067306518555\n",
            "epoch  540 Loss 0.049900252372026443\n",
            "epoch  570 Loss 0.049925655126571655\n"
          ]
        }
      ],
      "source": [
        "#recon= reconstruction of the input\n",
        "num_epochs=600\n",
        "outputs=[]\n",
        "\n",
        "for epoch in range(num_epochs):\n",
        " \n",
        "  for sample in range(N_Samples):\n",
        "    input=DATA[:,sample]\n",
        "    recon=model(input)\n",
        "    loss=criterion(recon,input)\n",
        "\n",
        "    optimizer.zero_grad()\n",
        "    loss.backward()\n",
        "    optimizer.step()\n",
        "    #added this line to compare with the circular model, thisline block the convergence\n",
        "  if loss.item() < 0.0005 :\n",
        "    break\n",
        "  if (epoch % 30 ==0):\n",
        "    print(\"epoch \",epoch,\"Loss\", loss.item())"
      ]
    },
    {
      "cell_type": "markdown",
      "metadata": {
        "id": "cA1L1yp13qKC"
      },
      "source": [
        "Grabbing the weights of the first layer which are the analogous of the eigenvectors in PCA"
      ]
    },
    {
      "cell_type": "code",
      "execution_count": 31,
      "metadata": {
        "id": "SXbNRbczN4p9"
      },
      "outputs": [],
      "source": [
        "encoder_base=model.encoder.weight\n",
        "#print(encoder_base)\n",
        "decoder_base=model.decoder.weight\n",
        "#print(decoder_base)"
      ]
    },
    {
      "cell_type": "markdown",
      "metadata": {},
      "source": [
        "Checking how the scalar product of the two vectors of the \"basis\" is"
      ]
    },
    {
      "cell_type": "code",
      "execution_count": 32,
      "metadata": {
        "colab": {
          "base_uri": "https://localhost:8080/"
        },
        "id": "Ld_UHW6yOQ39",
        "outputId": "a2c098a2-487f-4f7f-a4b2-0073b55e2f08"
      },
      "outputs": [
        {
          "data": {
            "text/plain": [
              "tensor(0.1206, grad_fn=<DotBackward0>)"
            ]
          },
          "execution_count": 32,
          "metadata": {},
          "output_type": "execute_result"
        }
      ],
      "source": [
        "torch.dot(encoder_base[0,:],encoder_base[1,:] )"
      ]
    },
    {
      "cell_type": "code",
      "execution_count": 33,
      "metadata": {
        "id": "aMOvEXlEH30B"
      },
      "outputs": [],
      "source": [
        "NNphases=np.zeros((N_Samples,2))\n",
        "for sample in range(N_Samples):\n",
        "  temp=torch.matmul(encoder_base, DATA[:,sample]).detach().numpy()\n",
        "  NNphases[sample,:]=temp"
      ]
    },
    {
      "cell_type": "markdown",
      "metadata": {},
      "source": [
        "### Plots"
      ]
    },
    {
      "cell_type": "code",
      "execution_count": 34,
      "metadata": {
        "colab": {
          "base_uri": "https://localhost:8080/",
          "height": 283
        },
        "id": "7EazKNhyLVc-",
        "outputId": "c9536c54-a469-48b2-e617-5772f764faf6"
      },
      "outputs": [
        {
          "data": {
            "text/plain": [
              "[<matplotlib.lines.Line2D at 0x7f918cfb4ac0>]"
            ]
          },
          "execution_count": 34,
          "metadata": {},
          "output_type": "execute_result"
        },
        {
          "data": {
            "image/png": "[encoded data removed]",
            "text/plain": [
              "<Figure size 640x480 with 1 Axes>"
            ]
          },
          "metadata": {},
          "output_type": "display_data"
        }
      ],
      "source": [
        "plt.plot(NNphases[:,0], NNphases[:,1],'o')"
      ]
    },
    {
      "cell_type": "code",
      "execution_count": 35,
      "metadata": {
        "id": "698mgzh3LCvH"
      },
      "outputs": [],
      "source": [
        "inf_phases=np.arctan2( NNphases[:,0],NNphases[:,1] )"
      ]
    },
    {
      "cell_type": "code",
      "execution_count": 36,
      "metadata": {
        "colab": {
          "base_uri": "https://localhost:8080/",
          "height": 285
        },
        "id": "80qCm_9pNC5R",
        "outputId": "25e8492c-8238-4688-d8e3-d947e9b34e17"
      },
      "outputs": [
        {
          "data": {
            "text/plain": [
              "[<matplotlib.lines.Line2D at 0x7f918d024f40>]"
            ]
          },
          "execution_count": 36,
          "metadata": {},
          "output_type": "execute_result"
        },
        {
          "data": {
            "image/png": "[encoded data removed]",
            "text/plain": [
              "<Figure size 640x480 with 1 Axes>"
            ]
          },
          "metadata": {},
          "output_type": "display_data"
        }
      ],
      "source": [
        "plt.plot(true_phases,inf_phases,'o')"
      ]
    },
    {
      "cell_type": "markdown",
      "metadata": {
        "id": "Gljp-hr0jVkz"
      },
      "source": [
        "## Adding the \"circular\" activation function"
      ]
    },
    {
      "cell_type": "markdown",
      "metadata": {},
      "source": [
        "### Setting the network"
      ]
    },
    {
      "cell_type": "code",
      "execution_count": 37,
      "metadata": {
        "id": "1PuLTCWrmtpp"
      },
      "outputs": [
        {
          "data": {
            "text/plain": [
              "'\\nclass CircularEncoder(nn.Module):\\n    def __init__(self):\\n        super().__init__()\\n        self.encoder = nn.Sequential(\\n            nn.Linear(N_Genes, 2,bias=False)\\n           )\\n        self.decoder = nn.Sequential(\\n            nn.Linear(2, N_Genes,bias=False)\\n           )\\n    #fucntion that makes the input flow in the network\\n    def forward(self, x):\\n        encoded=self.encoder(x) #compress the input\\n        encoded_circ=encoded/torch.linalg.norm(encoded)\\n        decoded=self.decoder(encoded_circ)\\n\\n        return decoded #encoded,encoded_circ \\n        '"
            ]
          },
          "execution_count": 37,
          "metadata": {},
          "output_type": "execute_result"
        }
      ],
      "source": [
        "#SAME THING BUT USING SEQUENTIAL\n",
        "'''\n",
        "class CircularEncoder(nn.Module):\n",
        "    def __init__(self):\n",
        "        super().__init__()\n",
        "        self.encoder = nn.Sequential(\n",
        "            nn.Linear(N_Genes, 2,bias=False)\n",
        "           )\n",
        "        self.decoder = nn.Sequential(\n",
        "            nn.Linear(2, N_Genes,bias=False)\n",
        "           )\n",
        "    #fucntion that makes the input flow in the network\n",
        "    def forward(self, x):\n",
        "        encoded=self.encoder(x) #compress the input\n",
        "        encoded_circ=encoded/torch.linalg.norm(encoded)\n",
        "        decoded=self.decoder(encoded_circ)\n",
        "\n",
        "        return decoded #encoded,encoded_circ \n",
        "        '''"
      ]
    },
    {
      "cell_type": "code",
      "execution_count": 54,
      "metadata": {
        "id": "1PuLTCWrmtpp"
      },
      "outputs": [],
      "source": [
        "class CircularEncoder(nn.Module):\n",
        "    def __init__(self):\n",
        "        super().__init__()\n",
        "        self.encoder = nn.Linear(N_Genes, 2,bias=False)\n",
        "        #self.encoder.weight=nn.Parameter(PCA_tensor)\n",
        "\n",
        "        self.decoder = nn.Linear(2, N_Genes,bias=False)\n",
        "        #self.decoder.weight=nn.Parameter(PCA_tensor.transpose(0,1))\n",
        "    \n",
        "    #fucntion that makes the input flow in the network\n",
        "    def forward(self, x):\n",
        "        encoded=self.encoder(x) #compress the input\n",
        "        encoded_circ=encoded/torch.linalg.norm(encoded)\n",
        "\n",
        "        decoded=self.decoder(encoded_circ)\n",
        "\n",
        "        return decoded #encoded,encoded_circ "
      ]
    },
    {
      "cell_type": "code",
      "execution_count": 55,
      "metadata": {
        "id": "McZTR4lRrQSH"
      },
      "outputs": [],
      "source": [
        "circ_model=CircularEncoder()\n",
        "criterion2= nn.MSELoss()\n",
        "optimizer2 = torch.optim.Adam(circ_model.parameters(), lr=0.001, betas=(0.9, 0.999), eps=1e-08, weight_decay=0, amsgrad=False)\n",
        "#optimizer2 = torch.optim.SGD(circ_model.parameters(),lr=0.001)\n"
      ]
    },
    {
      "cell_type": "code",
      "execution_count": 57,
      "metadata": {
        "colab": {
          "base_uri": "https://localhost:8080/",
          "height": 514
        },
        "id": "gY383NvurQSR",
        "outputId": "403ba492-9f6e-45de-9c26-dcccb606fd5a"
      },
      "outputs": [
        {
          "name": "stdout",
          "output_type": "stream",
          "text": [
            "epoch  0 Loss 6.170764446258545\n",
            "epoch  1 Loss 5.938480377197266\n",
            "epoch  2 Loss 5.7284932136535645\n",
            "epoch  3 Loss 5.532712459564209\n",
            "epoch  4 Loss 5.34698486328125\n",
            "epoch  5 Loss 5.168949604034424\n",
            "epoch  6 Loss 4.996892929077148\n",
            "epoch  7 Loss 4.829432964324951\n",
            "epoch  8 Loss 4.66546630859375\n",
            "epoch  9 Loss 4.5043416023254395\n",
            "epoch  10 Loss 4.345902919769287\n",
            "epoch  11 Loss 4.190212726593018\n",
            "epoch  12 Loss 4.037322521209717\n",
            "epoch  13 Loss 3.8873510360717773\n",
            "epoch  14 Loss 3.740529775619507\n",
            "epoch  15 Loss 3.597163438796997\n",
            "epoch  16 Loss 3.4575812816619873\n",
            "epoch  17 Loss 3.3220977783203125\n",
            "epoch  18 Loss 3.1909847259521484\n",
            "epoch  19 Loss 3.064455986022949\n",
            "epoch  20 Loss 2.9426660537719727\n",
            "epoch  21 Loss 2.8256969451904297\n",
            "epoch  22 Loss 2.7135705947875977\n",
            "epoch  23 Loss 2.6062448024749756\n",
            "epoch  24 Loss 2.5036089420318604\n",
            "epoch  25 Loss 2.405458688735962\n",
            "epoch  26 Loss 2.311464548110962\n",
            "epoch  27 Loss 2.2211034297943115\n",
            "epoch  28 Loss 2.1344993114471436\n",
            "epoch  29 Loss 2.052493095397949\n",
            "epoch  30 Loss 1.9738678932189941\n",
            "epoch  31 Loss 1.899210810661316\n",
            "epoch  32 Loss 1.8278913497924805\n",
            "epoch  33 Loss 1.7598031759262085\n",
            "epoch  34 Loss 1.6949234008789062\n",
            "epoch  35 Loss 1.6328271627426147\n",
            "epoch  36 Loss 1.5735448598861694\n",
            "epoch  37 Loss 1.5167938470840454\n",
            "epoch  38 Loss 1.4624587297439575\n",
            "epoch  39 Loss 1.4103764295578003\n",
            "epoch  40 Loss 1.3604003190994263\n",
            "epoch  41 Loss 1.3123959302902222\n",
            "epoch  42 Loss 1.2662360668182373\n",
            "epoch  43 Loss 1.2218033075332642\n",
            "epoch  44 Loss 1.1789923906326294\n",
            "epoch  45 Loss 1.1377068758010864\n",
            "epoch  46 Loss 1.0978609323501587\n",
            "epoch  47 Loss 1.0593782663345337\n",
            "epoch  48 Loss 1.0221918821334839\n",
            "epoch  49 Loss 0.9862432479858398\n",
            "epoch  50 Loss 0.9514803886413574\n",
            "epoch  51 Loss 0.9178596138954163\n",
            "epoch  52 Loss 0.8853400349617004\n",
            "epoch  53 Loss 0.8538892269134521\n",
            "epoch  54 Loss 0.8234760165214539\n",
            "epoch  55 Loss 0.7940733432769775\n",
            "epoch  56 Loss 0.7656567096710205\n",
            "epoch  57 Loss 0.7382030487060547\n",
            "epoch  58 Loss 0.7116902470588684\n",
            "epoch  59 Loss 0.6860986351966858\n",
            "epoch  60 Loss 0.6614057421684265\n",
            "epoch  61 Loss 0.6375916600227356\n",
            "epoch  62 Loss 0.6146347522735596\n",
            "epoch  63 Loss 0.5925148129463196\n",
            "epoch  64 Loss 0.5712088942527771\n",
            "epoch  65 Loss 0.5506945848464966\n",
            "epoch  66 Loss 0.5309504866600037\n",
            "epoch  67 Loss 0.511952817440033\n",
            "epoch  68 Loss 0.4936788082122803\n",
            "epoch  69 Loss 0.4761056900024414\n",
            "epoch  70 Loss 0.4592108726501465\n",
            "epoch  71 Loss 0.4429711401462555\n",
            "epoch  72 Loss 0.427364706993103\n",
            "epoch  73 Loss 0.41236916184425354\n",
            "epoch  74 Loss 0.39796361327171326\n",
            "epoch  75 Loss 0.38412702083587646\n",
            "epoch  76 Loss 0.37083837389945984\n",
            "epoch  77 Loss 0.35807839035987854\n",
            "epoch  78 Loss 0.34582772850990295\n",
            "epoch  79 Loss 0.33406737446784973\n",
            "epoch  80 Loss 0.32277926802635193\n",
            "epoch  81 Loss 0.3119457960128784\n",
            "epoch  82 Loss 0.3015500009059906\n",
            "epoch  83 Loss 0.29157549142837524\n",
            "epoch  84 Loss 0.28200653195381165\n",
            "epoch  85 Loss 0.2728271186351776\n",
            "epoch  86 Loss 0.2640233039855957\n",
            "epoch  87 Loss 0.2555800676345825\n",
            "epoch  88 Loss 0.2474842071533203\n",
            "epoch  89 Loss 0.23972173035144806\n",
            "epoch  90 Loss 0.23228012025356293\n",
            "epoch  91 Loss 0.2251470685005188\n",
            "epoch  92 Loss 0.21831060945987701\n",
            "epoch  93 Loss 0.21175925433635712\n",
            "epoch  94 Loss 0.2054816633462906\n",
            "epoch  95 Loss 0.19946761429309845\n",
            "epoch  96 Loss 0.193706676363945\n",
            "epoch  97 Loss 0.18818862736225128\n",
            "epoch  98 Loss 0.18290454149246216\n",
            "epoch  99 Loss 0.17784464359283447\n"
          ]
        }
      ],
      "source": [
        "#recon= reconstruction of the input\n",
        "num_epochs=100\n",
        "outputs=[]\n",
        "\n",
        "for epoch in range(num_epochs):\n",
        "  for sample in range(N_Samples):\n",
        "    input=DATA[:,sample]\n",
        "    recon=circ_model(input)\n",
        "    loss=criterion2(recon,input)\n",
        "\n",
        "    optimizer2.zero_grad()\n",
        "    loss.backward()\n",
        "    optimizer2.step()\n",
        "  if (epoch % 1 ==0):\n",
        "    print(\"epoch \",epoch,\"Loss\", loss.item())"
      ]
    },
    {
      "cell_type": "code",
      "execution_count": 59,
      "metadata": {
        "id": "ze2eCCNcvH02"
      },
      "outputs": [
        {
          "name": "stdout",
          "output_type": "stream",
          "text": [
            "Parameter containing:\n",
            "tensor([[ 0.1089, -0.0772, -0.1308, -0.3541, -0.0730, -0.0296,  0.0866, -0.2509,\n",
            "         -0.1710, -0.1160, -0.3664,  0.2235],\n",
            "        [ 0.2892,  0.2032,  0.1897,  0.0532,  0.2729,  0.1633, -0.0587, -0.3194,\n",
            "          0.1034, -0.0880, -0.0110,  0.4545]], requires_grad=True)\n"
          ]
        }
      ],
      "source": [
        "circ_encoder_base=circ_model.encoder.weight\n",
        "print(encoder_base)\n",
        "circ_decoder_baseC=circ_model.decoder.weight\n",
        "#print(decoder_base)\n"
      ]
    },
    {
      "cell_type": "markdown",
      "metadata": {
        "id": "1-VARld3wftL"
      },
      "source": [
        "After having the values of the weight, in order to find the values of the neurons, i just reconstruct waht happens to the input until the the bottle neck (encoder linear layer + unit circle projection)"
      ]
    },
    {
      "cell_type": "code",
      "execution_count": 67,
      "metadata": {},
      "outputs": [
        {
          "name": "stdout",
          "output_type": "stream",
          "text": [
            "tensor([ 1.7769,  2.7178,  3.2389,  4.0250,  2.7864,  1.5765, -2.2893, -1.1756,\n",
            "         1.6560,  0.5669,  3.4082,  2.0304])\n",
            "[-2.2122765  0.9424745]\n",
            "[-0.9199927  0.3919355]\n"
          ]
        },
        {
          "data": {
            "text/plain": [
              "1.0"
            ]
          },
          "execution_count": 67,
          "metadata": {},
          "output_type": "execute_result"
        }
      ],
      "source": [
        "NNphasesC=np.zeros((N_Samples,2))\n",
        "print(DATA[:,0])\n",
        "\n",
        "temp=torch.matmul(circ_encoder_base, DATA[:,0]).detach().numpy()\n",
        "print(temp)\n",
        "\n",
        "temp /= np.linalg.norm(temp)\n",
        "print(temp)\n",
        "\n",
        "np.linalg.norm( temp)\n"
      ]
    },
    {
      "cell_type": "code",
      "execution_count": 85,
      "metadata": {
        "colab": {
          "base_uri": "https://localhost:8080/"
        },
        "id": "8H2FHVVpvH0_",
        "outputId": "dc621866-6e7a-4f64-d75e-0e275adf6af9"
      },
      "outputs": [],
      "source": [
        "NNphasesC=np.zeros((2,N_Samples))\n",
        "for sample in range(N_Samples):\n",
        "  temp=torch.matmul(circ_encoder_base, DATA[:,sample]).detach().numpy()\n",
        "  NNphasesC[:,sample]=temp\n",
        "  NNphasesC[:,sample] /= np.linalg.norm(NNphasesC[:,sample])\n"
      ]
    },
    {
      "cell_type": "code",
      "execution_count": 89,
      "metadata": {
        "colab": {
          "base_uri": "https://localhost:8080/",
          "height": 283
        },
        "id": "DMrTS1F2vfr6",
        "outputId": "b1a51b65-13c2-4ac5-d4e6-df845c153b98"
      },
      "outputs": [
        {
          "data": {
            "text/plain": [
              "[<matplotlib.lines.Line2D at 0x7f9184826290>]"
            ]
          },
          "execution_count": 89,
          "metadata": {},
          "output_type": "execute_result"
        },
        {
          "data": {
            "image/png": "[encoded data removed]",
            "text/plain": [
              "<Figure size 640x480 with 1 Axes>"
            ]
          },
          "metadata": {},
          "output_type": "display_data"
        }
      ],
      "source": [
        "plt.plot(NNphasesC[0,:], NNphasesC[1,:],'o')"
      ]
    },
    {
      "cell_type": "code",
      "execution_count": 93,
      "metadata": {
        "id": "avIl_26lvfr7"
      },
      "outputs": [],
      "source": [
        "inf_phasesC=np.arctan2( NNphasesC[0,:],NNphasesC[1,:] )"
      ]
    },
    {
      "cell_type": "code",
      "execution_count": 94,
      "metadata": {
        "colab": {
          "base_uri": "https://localhost:8080/",
          "height": 283
        },
        "id": "u9cSPT0yvfr7",
        "outputId": "62eb5d7d-03a1-4449-ec5c-85b270a7c65d"
      },
      "outputs": [
        {
          "data": {
            "text/plain": [
              "[<matplotlib.lines.Line2D at 0x7f9184614790>]"
            ]
          },
          "execution_count": 94,
          "metadata": {},
          "output_type": "execute_result"
        },
        {
          "data": {
            "image/png": "[encoded data removed]",
            "text/plain": [
              "<Figure size 640x480 with 1 Axes>"
            ]
          },
          "metadata": {},
          "output_type": "display_data"
        }
      ],
      "source": [
        "plt.plot(true_phases,inf_phasesC,'o')"
      ]
    },
    {
      "cell_type": "code",
      "execution_count": null,
      "metadata": {},
      "outputs": [],
      "source": []
    },
    {
      "cell_type": "code",
      "execution_count": null,
      "metadata": {},
      "outputs": [],
      "source": []
    },
    {
      "cell_type": "code",
      "execution_count": null,
      "metadata": {},
      "outputs": [],
      "source": []
    }
  ],
  "metadata": {
    "colab": {
      "provenance": []
    },
    "kernelspec": {
      "display_name": "Python 3.10.8 ('AE-env': conda)",
      "language": "python",
      "name": "python3"
    },
    "language_info": {
      "codemirror_mode": {
        "name": "ipython",
        "version": 3
      },
      "file_extension": ".py",
      "mimetype": "text/x-python",
      "name": "python",
      "nbconvert_exporter": "python",
      "pygments_lexer": "ipython3",
      "version": "3.10.8"
    },
    "vscode": {
      "interpreter": {
        "hash": "1007909a6976a67fc7b170fa9a0c52db963355f1ebc4285f32c9373c6d1e3276"
      }
    }
  },
  "nbformat": 4,
  "nbformat_minor": 0
}
