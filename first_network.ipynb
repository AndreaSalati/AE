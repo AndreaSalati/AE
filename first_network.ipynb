{
  "cells": [
    {
      "cell_type": "markdown",
      "metadata": {
        "id": "iaYVCdI2I2Oc"
      },
      "source": [
        "# **First** autoencoder"
      ]
    },
    {
      "cell_type": "markdown",
      "metadata": {},
      "source": [
        "## Importing data"
      ]
    },
    {
      "cell_type": "code",
      "execution_count": 74,
      "metadata": {
        "id": "e_RNyOgSCrYP"
      },
      "outputs": [],
      "source": [
        "import numpy as np\n",
        "import torch\n",
        "import torch.nn as nn\n",
        "import pandas as pd\n",
        "from sklearn.decomposition import PCA\n",
        "\n",
        "from DATA_generator import *\n",
        "\n",
        "%matplotlib inline\n",
        "import matplotlib.pyplot as plt\n",
        "\n",
        "\n",
        "\n",
        "#using lorenzos code from R\n",
        "#import rpy2.robjects as robjects\n",
        "#from rpy2.robjects import pandas2ri"
      ]
    },
    {
      "cell_type": "markdown",
      "metadata": {},
      "source": [
        "Real DATA"
      ]
    },
    {
      "cell_type": "code",
      "execution_count": 75,
      "metadata": {},
      "outputs": [],
      "source": [
        "bigData = pd.read_csv(\"/home/salati/CHIRAL/Pkg/CHIRAL/Example/Muscle_exon.txt\", sep=\" \")\n",
        "#Taking only the rythmic genes\n",
        "PeriodicData=bigData.loc[[\"ENSG00000105516\", \"ENSG00000049246\", \"ENSG00000167074\", \"ENSG00000174738\", \"ENSG00000179094\", \"ENSG00000132326\" , \"ENSG00000170485\", \"ENSG00000133794\",\"ENSG00000126368\",\"ENSG00000008405\",\"ENSG00000121671\",\"ENSG00000159208\"]]\n",
        "DATA=torch.tensor(PeriodicData.values)\n",
        "DATA=DATA.float()\n",
        "E=np.array(PeriodicData.values)\n",
        "\n",
        "true_phases=pd.read_csv(\"/home/salati/CHIRAL/Pkg/CHIRAL/Example/true_phi.txt\",sep=\" \")\n",
        "true_phases=np.array(true_phases.values)\n",
        "true_phases=true_phases[:,0]"
      ]
    },
    {
      "cell_type": "markdown",
      "metadata": {},
      "source": [
        "Simulated DATA"
      ]
    },
    {
      "cell_type": "markdown",
      "metadata": {},
      "source": [
        "N_Samples=56\n",
        "N_PeriodicGenes=12\n",
        "N_NonPeriodicGenes=0\n",
        "N_Genes=N_PeriodicGenes+N_NonPeriodicGenes\n",
        "NoiseSigma=0.04\n",
        "\n",
        "#E , true_phases, alpha=NonUniformDataGenerator(N_Samples=N_Samples, N_PeriodicGenes=N_PeriodicGenes,noise=True, N_NonPeriodicGenes=N_NonPeriodicGenes )\n",
        "E , true_phases, alpha=DataGenerator(N_Samples=N_Samples, N_PeriodicGenes=N_PeriodicGenes,noise=True, N_NonPeriodicGenes=N_NonPeriodicGenes , Means=False, NoiseSigma=NoiseSigma )\n",
        "\n",
        "DATA=torch.from_numpy(E)\n",
        "DATA=DATA.float()"
      ]
    },
    {
      "cell_type": "code",
      "execution_count": 76,
      "metadata": {},
      "outputs": [
        {
          "data": {
            "text/plain": [
              "57"
            ]
          },
          "execution_count": 76,
          "metadata": {},
          "output_type": "execute_result"
        }
      ],
      "source": [
        "N_Genes=DATA.shape[0]\n",
        "N_Samples=DATA.shape[1]\n",
        "N_Samples"
      ]
    },
    {
      "cell_type": "markdown",
      "metadata": {},
      "source": [
        "Select gene you are interested setting varaible g in order to plot data, and supposed distribution"
      ]
    },
    {
      "cell_type": "code",
      "execution_count": 77,
      "metadata": {},
      "outputs": [
        {
          "data": {
            "text/plain": [
              "[<matplotlib.lines.Line2D at 0x7fcf531941c0>]"
            ]
          },
          "execution_count": 77,
          "metadata": {},
          "output_type": "execute_result"
        },
        {
          "data": {
            "image/png": "[encoded data removed]",
            "text/plain": [
              "<Figure size 640x480 with 1 Axes>"
            ]
          },
          "metadata": {},
          "output_type": "display_data"
        }
      ],
      "source": [
        "plt.plot(DATA[1,:], 'o')"
      ]
    },
    {
      "cell_type": "markdown",
      "metadata": {
        "id": "OKCawvYJyfxw"
      },
      "source": [
        "## PCA"
      ]
    },
    {
      "cell_type": "code",
      "execution_count": 78,
      "metadata": {
        "colab": {
          "base_uri": "https://localhost:8080/"
        },
        "id": "y2imPeGXo13Q",
        "outputId": "b3844d10-f6ff-4a72-ad49-e230e4eeedb0"
      },
      "outputs": [
        {
          "data": {
            "text/html": [
              "<style>#sk-container-id-3 {color: black;background-color: white;}#sk-container-id-3 pre{padding: 0;}#sk-container-id-3 div.sk-toggleable {background-color: white;}#sk-container-id-3 label.sk-toggleable__label {cursor: pointer;display: block;width: 100%;margin-bottom: 0;padding: 0.3em;box-sizing: border-box;text-align: center;}#sk-container-id-3 label.sk-toggleable__label-arrow:before {content: \"▸\";float: left;margin-right: 0.25em;color: #696969;}#sk-container-id-3 label.sk-toggleable__label-arrow:hover:before {color: black;}#sk-container-id-3 div.sk-estimator:hover label.sk-toggleable__label-arrow:before {color: black;}#sk-container-id-3 div.sk-toggleable__content {max-height: 0;max-width: 0;overflow: hidden;text-align: left;background-color: #f0f8ff;}#sk-container-id-3 div.sk-toggleable__content pre {margin: 0.2em;color: black;border-radius: 0.25em;background-color: #f0f8ff;}#sk-container-id-3 input.sk-toggleable__control:checked~div.sk-toggleable__content {max-height: 200px;max-width: 100%;overflow: auto;}#sk-container-id-3 input.sk-toggleable__control:checked~label.sk-toggleable__label-arrow:before {content: \"▾\";}#sk-container-id-3 div.sk-estimator input.sk-toggleable__control:checked~label.sk-toggleable__label {background-color: #d4ebff;}#sk-container-id-3 div.sk-label input.sk-toggleable__control:checked~label.sk-toggleable__label {background-color: #d4ebff;}#sk-container-id-3 input.sk-hidden--visually {border: 0;clip: rect(1px 1px 1px 1px);clip: rect(1px, 1px, 1px, 1px);height: 1px;margin: -1px;overflow: hidden;padding: 0;position: absolute;width: 1px;}#sk-container-id-3 div.sk-estimator {font-family: monospace;background-color: #f0f8ff;border: 1px dotted black;border-radius: 0.25em;box-sizing: border-box;margin-bottom: 0.5em;}#sk-container-id-3 div.sk-estimator:hover {background-color: #d4ebff;}#sk-container-id-3 div.sk-parallel-item::after {content: \"\";width: 100%;border-bottom: 1px solid gray;flex-grow: 1;}#sk-container-id-3 div.sk-label:hover label.sk-toggleable__label {background-color: #d4ebff;}#sk-container-id-3 div.sk-serial::before {content: \"\";position: absolute;border-left: 1px solid gray;box-sizing: border-box;top: 0;bottom: 0;left: 50%;z-index: 0;}#sk-container-id-3 div.sk-serial {display: flex;flex-direction: column;align-items: center;background-color: white;padding-right: 0.2em;padding-left: 0.2em;position: relative;}#sk-container-id-3 div.sk-item {position: relative;z-index: 1;}#sk-container-id-3 div.sk-parallel {display: flex;align-items: stretch;justify-content: center;background-color: white;position: relative;}#sk-container-id-3 div.sk-item::before, #sk-container-id-3 div.sk-parallel-item::before {content: \"\";position: absolute;border-left: 1px solid gray;box-sizing: border-box;top: 0;bottom: 0;left: 50%;z-index: -1;}#sk-container-id-3 div.sk-parallel-item {display: flex;flex-direction: column;z-index: 1;position: relative;background-color: white;}#sk-container-id-3 div.sk-parallel-item:first-child::after {align-self: flex-end;width: 50%;}#sk-container-id-3 div.sk-parallel-item:last-child::after {align-self: flex-start;width: 50%;}#sk-container-id-3 div.sk-parallel-item:only-child::after {width: 0;}#sk-container-id-3 div.sk-dashed-wrapped {border: 1px dashed gray;margin: 0 0.4em 0.5em 0.4em;box-sizing: border-box;padding-bottom: 0.4em;background-color: white;}#sk-container-id-3 div.sk-label label {font-family: monospace;font-weight: bold;display: inline-block;line-height: 1.2em;}#sk-container-id-3 div.sk-label-container {text-align: center;}#sk-container-id-3 div.sk-container {/* jupyter's `normalize.less` sets `[hidden] { display: none; }` but bootstrap.min.css set `[hidden] { display: none !important; }` so we also need the `!important` here to be able to override the default hidden behavior on the sphinx rendered scikit-learn.org. See: https://github.com/scikit-learn/scikit-learn/issues/21755 */display: inline-block !important;position: relative;}#sk-container-id-3 div.sk-text-repr-fallback {display: none;}</style><div id=\"sk-container-id-3\" class=\"sk-top-container\"><div class=\"sk-text-repr-fallback\"><pre>PCA(n_components=2)</pre><b>In a Jupyter environment, please rerun this cell to show the HTML representation or trust the notebook. <br />On GitHub, the HTML representation is unable to render, please try loading this page with nbviewer.org.</b></div><div class=\"sk-container\" hidden><div class=\"sk-item\"><div class=\"sk-estimator sk-toggleable\"><input class=\"sk-toggleable__control sk-hidden--visually\" id=\"sk-estimator-id-3\" type=\"checkbox\" checked><label for=\"sk-estimator-id-3\" class=\"sk-toggleable__label sk-toggleable__label-arrow\">PCA</label><div class=\"sk-toggleable__content\"><pre>PCA(n_components=2)</pre></div></div></div></div></div>"
            ],
            "text/plain": [
              "PCA(n_components=2)"
            ]
          },
          "execution_count": 78,
          "metadata": {},
          "output_type": "execute_result"
        }
      ],
      "source": [
        "Et=np.transpose(E)\n",
        "pca=PCA(n_components=2)\n",
        "pca.fit(Et)"
      ]
    },
    {
      "cell_type": "code",
      "execution_count": 79,
      "metadata": {
        "colab": {
          "base_uri": "https://localhost:8080/"
        },
        "id": "DvG03oqJuZq8",
        "outputId": "4d8e855f-aadf-4fd0-e0ab-09216cfc07fb"
      },
      "outputs": [
        {
          "name": "stdout",
          "output_type": "stream",
          "text": [
            "The two vectors are orthogonal, the scalar priduct is:  -2.7755575615628914e-17\n"
          ]
        }
      ],
      "source": [
        "pca.explained_variance_ratio_\n",
        "PCA_base=pca.components_\n",
        "PCA_base=np.array(PCA_base)\n",
        "print('The two vectors are orthogonal, the scalar priduct is: ',np.matmul(PCA_base[0,:] ,PCA_base[1,:]) )\n"
      ]
    },
    {
      "cell_type": "code",
      "execution_count": 80,
      "metadata": {
        "colab": {
          "base_uri": "https://localhost:8080/"
        },
        "id": "hc5jT4bt5DyC",
        "outputId": "503294d1-4107-4d0a-8bbf-2218c8d774f7"
      },
      "outputs": [],
      "source": [
        "pca_points=pca.fit_transform(Et)"
      ]
    },
    {
      "cell_type": "code",
      "execution_count": 81,
      "metadata": {
        "colab": {
          "base_uri": "https://localhost:8080/",
          "height": 283
        },
        "id": "KWTTeh037_79",
        "outputId": "5cb4b1d9-3528-4bea-efa1-e8af3917b69a"
      },
      "outputs": [
        {
          "data": {
            "text/plain": [
              "[<matplotlib.lines.Line2D at 0x7fcf536c3340>]"
            ]
          },
          "execution_count": 81,
          "metadata": {},
          "output_type": "execute_result"
        },
        {
          "data": {
            "image/png": "[encoded data removed]",
            "text/plain": [
              "<Figure size 640x480 with 1 Axes>"
            ]
          },
          "metadata": {},
          "output_type": "display_data"
        }
      ],
      "source": [
        "plt.plot(pca_points[:,0] , pca_points[:,1], 'o')"
      ]
    },
    {
      "cell_type": "code",
      "execution_count": 82,
      "metadata": {
        "id": "Ece-lw9f9czO"
      },
      "outputs": [
        {
          "data": {
            "text/plain": [
              "0.33878580216854104"
            ]
          },
          "execution_count": 82,
          "metadata": {},
          "output_type": "execute_result"
        }
      ],
      "source": [
        "from DATA_generator import *\n",
        "PCA_phi=np.arctan2(pca_points[:,0],pca_points[:,1])\n",
        "PCAshifted_phi,madPCA=optimal_shift(PCA_phi, true_phases)\n",
        "madPCA"
      ]
    },
    {
      "cell_type": "code",
      "execution_count": 83,
      "metadata": {
        "colab": {
          "base_uri": "https://localhost:8080/",
          "height": 283
        },
        "id": "AX6320fF-YT3",
        "outputId": "fcb219f3-e7d8-41f4-dcb2-f77c2051eba3"
      },
      "outputs": [
        {
          "data": {
            "text/plain": [
              "[<matplotlib.lines.Line2D at 0x7fcf53653070>]"
            ]
          },
          "execution_count": 83,
          "metadata": {},
          "output_type": "execute_result"
        },
        {
          "data": {
            "image/png": "[encoded data removed]",
            "text/plain": [
              "<Figure size 640x480 with 1 Axes>"
            ]
          },
          "metadata": {},
          "output_type": "display_data"
        }
      ],
      "source": [
        "plt.plot(true_phases,PCAshifted_phi, 'o')"
      ]
    },
    {
      "cell_type": "markdown",
      "metadata": {
        "id": "e5ZDuFhHyUIR"
      },
      "source": [
        "## Torch Linear"
      ]
    },
    {
      "cell_type": "markdown",
      "metadata": {},
      "source": [
        "### Setting the network"
      ]
    },
    {
      "cell_type": "code",
      "execution_count": 84,
      "metadata": {},
      "outputs": [
        {
          "data": {
            "text/plain": [
              "tensor([[-0.3415, -0.2836, -0.3255, -0.2395, -0.4008, -0.2304,  0.0701,  0.2681,\n",
              "         -0.2792,  0.0499, -0.1431, -0.4982],\n",
              "        [ 0.0096,  0.1267,  0.0540, -0.1128,  0.0749, -0.0783, -0.4529, -0.3995,\n",
              "         -0.7616, -0.0944,  0.0129,  0.0511]])"
            ]
          },
          "execution_count": 84,
          "metadata": {},
          "output_type": "execute_result"
        }
      ],
      "source": [
        "PCA_tensor=torch.tensor(PCA_base)\n",
        "PCA_tensor=PCA_tensor.float()\n",
        "PCA_tensor"
      ]
    },
    {
      "cell_type": "code",
      "execution_count": 85,
      "metadata": {},
      "outputs": [],
      "source": [
        "class LinearEncoder(nn.Module):\n",
        "    def __init__(self):\n",
        "        super().__init__()\n",
        "        self.encoder = nn.Linear(N_Genes, 2,bias=False)\n",
        "        #self.encoder.weight=nn.Parameter(PCA_tensor)\n",
        "\n",
        "        self.decoder = nn.Linear(2, N_Genes,bias=False)\n",
        "        #self.decoder.weight=nn.Parameter(PCA_tensor.transpose(0,1))\n",
        "           \n",
        "    #fucntion that makes the input flow in the network\n",
        "    def forward(self, x):\n",
        "        encoded=self.encoder(x) #compress the input\n",
        "        decoded=self.decoder(encoded)\n",
        "\n",
        "        return decoded"
      ]
    },
    {
      "cell_type": "markdown",
      "metadata": {
        "id": "fqw6R0zJCKcf"
      },
      "source": [
        "Here I create an instance of the class LinearEncoder and define other important stuff like the loss function"
      ]
    },
    {
      "cell_type": "code",
      "execution_count": 86,
      "metadata": {
        "id": "LU3xTg05BTWz"
      },
      "outputs": [],
      "source": [
        "model = LinearEncoder()\n",
        "criterion= nn.MSELoss()\n",
        "#optimizer = torch.optim.SGD(model.parameters(),lr=0.00001)\n",
        "optimizer=torch.optim.Adam(model.parameters(), lr=0.001, betas=(0.9, 0.999), eps=1e-08, weight_decay=0, amsgrad=False)\n"
      ]
    },
    {
      "cell_type": "markdown",
      "metadata": {},
      "source": [
        "Adding the GPU stuff"
      ]
    },
    {
      "cell_type": "code",
      "execution_count": 87,
      "metadata": {},
      "outputs": [],
      "source": [
        "#for GPU use this block\n",
        "\n",
        "#device = torch.device('mps')\n",
        "#E_t=torch.from_numpy(E)\n",
        "#E_t=E_t.float()\n",
        "#DATA=torch.tensor(E_t,  device=device)\n",
        "#model.to(device)\n",
        "\n",
        "\n",
        "# for CPU keep this line"
      ]
    },
    {
      "cell_type": "markdown",
      "metadata": {},
      "source": [
        "Training cycle"
      ]
    },
    {
      "cell_type": "code",
      "execution_count": 88,
      "metadata": {
        "id": "RTV9mvJlCm-0"
      },
      "outputs": [
        {
          "name": "stdout",
          "output_type": "stream",
          "text": [
            "epoch  0 Loss 6.633520126342773\n",
            "epoch  30 Loss 0.43687281012535095\n",
            "epoch  60 Loss 0.4142420291900635\n",
            "epoch  90 Loss 0.36297234892845154\n",
            "epoch  120 Loss 0.2693709135055542\n",
            "epoch  150 Loss 0.16273576021194458\n",
            "epoch  180 Loss 0.09855920821428299\n",
            "epoch  210 Loss 0.07115490734577179\n",
            "epoch  240 Loss 0.05954655632376671\n",
            "epoch  270 Loss 0.054416757076978683\n",
            "epoch  300 Loss 0.05203637853264809\n",
            "epoch  330 Loss 0.05089567229151726\n",
            "epoch  360 Loss 0.05033594369888306\n",
            "epoch  390 Loss 0.05005601420998573\n",
            "epoch  420 Loss 0.04991748556494713\n",
            "epoch  450 Loss 0.04985223338007927\n",
            "epoch  480 Loss 0.04982687905430794\n",
            "epoch  510 Loss 0.04982396960258484\n",
            "epoch  540 Loss 0.04983349144458771\n",
            "epoch  570 Loss 0.04985003545880318\n"
          ]
        }
      ],
      "source": [
        "#recon= reconstruction of the input\n",
        "num_epochs=600\n",
        "outputs=[]\n",
        "\n",
        "for epoch in range(num_epochs):\n",
        " \n",
        "  for sample in range(N_Samples):\n",
        "    input=DATA[:,sample]\n",
        "    recon=model(input)\n",
        "    loss=criterion(recon,input)\n",
        "\n",
        "    optimizer.zero_grad()\n",
        "    loss.backward()\n",
        "    optimizer.step()\n",
        "    #added this line to compare with the circular model, thisline block the convergence\n",
        "  if loss.item() < 0.0005 :\n",
        "    break\n",
        "  if (epoch % 30 ==0):\n",
        "    print(\"epoch \",epoch,\"Loss\", loss.item())"
      ]
    },
    {
      "cell_type": "markdown",
      "metadata": {
        "id": "cA1L1yp13qKC"
      },
      "source": [
        "Grabbing the weights of the first layer which are the analogous of the eigenvectors in PCA"
      ]
    },
    {
      "cell_type": "code",
      "execution_count": 89,
      "metadata": {
        "id": "SXbNRbczN4p9"
      },
      "outputs": [],
      "source": [
        "encoder_base=model.encoder.weight\n",
        "#print(encoder_base)\n",
        "decoder_base=model.decoder.weight\n",
        "#print(decoder_base)"
      ]
    },
    {
      "cell_type": "markdown",
      "metadata": {},
      "source": [
        "Checking how the scalar product of the two vectors of the \"basis\" is"
      ]
    },
    {
      "cell_type": "code",
      "execution_count": 90,
      "metadata": {
        "colab": {
          "base_uri": "https://localhost:8080/"
        },
        "id": "Ld_UHW6yOQ39",
        "outputId": "a2c098a2-487f-4f7f-a4b2-0073b55e2f08"
      },
      "outputs": [
        {
          "data": {
            "text/plain": [
              "tensor(-0.0051, grad_fn=<DotBackward0>)"
            ]
          },
          "execution_count": 90,
          "metadata": {},
          "output_type": "execute_result"
        }
      ],
      "source": [
        "torch.dot(encoder_base[0,:],encoder_base[1,:] )"
      ]
    },
    {
      "cell_type": "code",
      "execution_count": 91,
      "metadata": {
        "id": "aMOvEXlEH30B"
      },
      "outputs": [],
      "source": [
        "NNphases=np.zeros((N_Samples,2))\n",
        "for sample in range(N_Samples):\n",
        "  temp=torch.matmul(encoder_base, DATA[:,sample]).detach().numpy()\n",
        "  NNphases[sample,:]=temp"
      ]
    },
    {
      "cell_type": "markdown",
      "metadata": {},
      "source": [
        "### Plots"
      ]
    },
    {
      "cell_type": "code",
      "execution_count": 92,
      "metadata": {
        "colab": {
          "base_uri": "https://localhost:8080/",
          "height": 283
        },
        "id": "7EazKNhyLVc-",
        "outputId": "c9536c54-a469-48b2-e617-5772f764faf6"
      },
      "outputs": [
        {
          "data": {
            "text/plain": [
              "[<matplotlib.lines.Line2D at 0x7fcf4e281d50>]"
            ]
          },
          "execution_count": 92,
          "metadata": {},
          "output_type": "execute_result"
        },
        {
          "data": {
            "image/png": "[encoded data removed]",
            "text/plain": [
              "<Figure size 640x480 with 1 Axes>"
            ]
          },
          "metadata": {},
          "output_type": "display_data"
        }
      ],
      "source": [
        "plt.plot(NNphases[:,0], NNphases[:,1],'o')"
      ]
    },
    {
      "cell_type": "code",
      "execution_count": 93,
      "metadata": {
        "id": "698mgzh3LCvH"
      },
      "outputs": [
        {
          "data": {
            "text/plain": [
              "0.8635016232681889"
            ]
          },
          "execution_count": 93,
          "metadata": {},
          "output_type": "execute_result"
        }
      ],
      "source": [
        "inf_phases=np.arctan2( NNphases[:,0],NNphases[:,1] )\n",
        "NNshifted_phi,madNN=optimal_shift(inf_phases, true_phases)\n",
        "madNN"
      ]
    },
    {
      "cell_type": "code",
      "execution_count": 94,
      "metadata": {
        "colab": {
          "base_uri": "https://localhost:8080/",
          "height": 285
        },
        "id": "80qCm_9pNC5R",
        "outputId": "25e8492c-8238-4688-d8e3-d947e9b34e17"
      },
      "outputs": [
        {
          "data": {
            "text/plain": [
              "[<matplotlib.lines.Line2D at 0x7fcf4e2fd270>]"
            ]
          },
          "execution_count": 94,
          "metadata": {},
          "output_type": "execute_result"
        },
        {
          "data": {
            "image/png": "[encoded data removed]",
            "text/plain": [
              "<Figure size 640x480 with 1 Axes>"
            ]
          },
          "metadata": {},
          "output_type": "display_data"
        }
      ],
      "source": [
        "plt.plot(true_phases,NNshifted_phi,'o')"
      ]
    },
    {
      "cell_type": "markdown",
      "metadata": {
        "id": "Gljp-hr0jVkz"
      },
      "source": [
        "## Adding the \"circular\" activation function"
      ]
    },
    {
      "cell_type": "markdown",
      "metadata": {},
      "source": [
        "### Setting the network"
      ]
    },
    {
      "cell_type": "code",
      "execution_count": 95,
      "metadata": {
        "id": "1PuLTCWrmtpp"
      },
      "outputs": [
        {
          "data": {
            "text/plain": [
              "'\\nclass CircularEncoder(nn.Module):\\n    def __init__(self):\\n        super().__init__()\\n        self.encoder = nn.Sequential(\\n            nn.Linear(N_Genes, 2,bias=False)\\n           )\\n        self.decoder = nn.Sequential(\\n            nn.Linear(2, N_Genes,bias=False)\\n           )\\n    #fucntion that makes the input flow in the network\\n    def forward(self, x):\\n        encoded=self.encoder(x) #compress the input\\n        encoded_circ=encoded/torch.linalg.norm(encoded)\\n        decoded=self.decoder(encoded_circ)\\n\\n        return decoded #encoded,encoded_circ \\n        '"
            ]
          },
          "execution_count": 95,
          "metadata": {},
          "output_type": "execute_result"
        }
      ],
      "source": [
        "#SAME THING BUT USING SEQUENTIAL\n",
        "'''\n",
        "class CircularEncoder(nn.Module):\n",
        "    def __init__(self):\n",
        "        super().__init__()\n",
        "        self.encoder = nn.Sequential(\n",
        "            nn.Linear(N_Genes, 2,bias=False)\n",
        "           )\n",
        "        self.decoder = nn.Sequential(\n",
        "            nn.Linear(2, N_Genes,bias=False)\n",
        "           )\n",
        "    #fucntion that makes the input flow in the network\n",
        "    def forward(self, x):\n",
        "        encoded=self.encoder(x) #compress the input\n",
        "        encoded_circ=encoded/torch.linalg.norm(encoded)\n",
        "        decoded=self.decoder(encoded_circ)\n",
        "\n",
        "        return decoded #encoded,encoded_circ \n",
        "        '''"
      ]
    },
    {
      "cell_type": "code",
      "execution_count": 96,
      "metadata": {
        "id": "1PuLTCWrmtpp"
      },
      "outputs": [],
      "source": [
        "class CircularEncoder(nn.Module):\n",
        "    def __init__(self):\n",
        "        super().__init__()\n",
        "        self.encoder = nn.Linear(N_Genes, 2,bias=False)\n",
        "        #self.encoder.weight=nn.Parameter(PCA_tensor)\n",
        "\n",
        "        self.decoder = nn.Linear(2, N_Genes,bias=False)\n",
        "        #self.decoder.weight=nn.Parameter(PCA_tensor.transpose(0,1))\n",
        "    \n",
        "    #fucntion that makes the input flow in the network\n",
        "    def forward(self, x):\n",
        "        encoded=self.encoder(x) #compress the input\n",
        "        encoded_circ=encoded/torch.linalg.norm(encoded)\n",
        "\n",
        "        decoded=self.decoder(encoded_circ)\n",
        "\n",
        "        return decoded #encoded,encoded_circ "
      ]
    },
    {
      "cell_type": "code",
      "execution_count": 97,
      "metadata": {
        "id": "McZTR4lRrQSH"
      },
      "outputs": [],
      "source": [
        "circ_model=CircularEncoder()\n",
        "criterion2= nn.MSELoss()\n",
        "optimizer2 = torch.optim.Adam(circ_model.parameters(), lr=0.001, betas=(0.9, 0.999), eps=1e-08, weight_decay=0, amsgrad=False)\n",
        "#optimizer2 = torch.optim.SGD(circ_model.parameters(),lr=0.001)\n"
      ]
    },
    {
      "cell_type": "code",
      "execution_count": 98,
      "metadata": {
        "colab": {
          "base_uri": "https://localhost:8080/",
          "height": 514
        },
        "id": "gY383NvurQSR",
        "outputId": "403ba492-9f6e-45de-9c26-dcccb606fd5a"
      },
      "outputs": [
        {
          "name": "stdout",
          "output_type": "stream",
          "text": [
            "epoch  0 Loss 6.476596832275391\n",
            "epoch  10 Loss 4.079363822937012\n",
            "epoch  20 Loss 2.647115468978882\n",
            "epoch  30 Loss 1.75722074508667\n",
            "epoch  40 Loss 1.1904946565628052\n",
            "epoch  50 Loss 0.817620575428009\n",
            "epoch  60 Loss 0.5652506947517395\n",
            "epoch  70 Loss 0.39332273602485657\n",
            "epoch  80 Loss 0.2774408757686615\n",
            "epoch  90 Loss 0.20116496086120605\n",
            "epoch  100 Loss 0.1523168832063675\n",
            "epoch  110 Loss 0.12171480804681778\n",
            "epoch  120 Loss 0.10273879766464233\n",
            "epoch  130 Loss 0.0909000039100647\n",
            "epoch  140 Loss 0.0833219364285469\n",
            "epoch  150 Loss 0.07825179398059845\n",
            "epoch  160 Loss 0.07467629015445709\n",
            "epoch  170 Loss 0.07203079015016556\n",
            "epoch  180 Loss 0.07000360637903214\n",
            "epoch  190 Loss 0.06841607391834259\n",
            "epoch  200 Loss 0.06716004759073257\n",
            "epoch  210 Loss 0.06616375595331192\n",
            "epoch  220 Loss 0.06537541002035141\n",
            "epoch  230 Loss 0.06475623697042465\n",
            "epoch  240 Loss 0.06427585333585739\n",
            "epoch  250 Loss 0.06391007453203201\n",
            "epoch  260 Loss 0.06363912671804428\n",
            "epoch  270 Loss 0.06344594806432724\n",
            "epoch  280 Loss 0.06331698596477509\n",
            "epoch  290 Loss 0.06324037164449692\n"
          ]
        }
      ],
      "source": [
        "#recon= reconstruction of the input\n",
        "num_epochs=300\n",
        "outputs=[]\n",
        "\n",
        "for epoch in range(num_epochs):\n",
        "  for sample in range(N_Samples):\n",
        "    input=DATA[:,sample]\n",
        "    recon=circ_model(input)\n",
        "    loss=criterion2(recon,input)\n",
        "\n",
        "    optimizer2.zero_grad()\n",
        "    loss.backward()\n",
        "    optimizer2.step()\n",
        "  if (epoch % 10 ==0):\n",
        "    print(\"epoch \",epoch,\"Loss\", loss.item())"
      ]
    },
    {
      "cell_type": "code",
      "execution_count": 99,
      "metadata": {
        "id": "ze2eCCNcvH02"
      },
      "outputs": [
        {
          "name": "stdout",
          "output_type": "stream",
          "text": [
            "Parameter containing:\n",
            "tensor([[-0.1396,  0.0369,  0.0852,  0.3022,  0.0234,  0.0015, -0.0669,  0.2685,\n",
            "          0.1342,  0.1128,  0.3236, -0.2644],\n",
            "        [-0.2172, -0.2147, -0.2300, -0.2018, -0.2741, -0.1522,  0.0908,  0.1839,\n",
            "         -0.1685,  0.0154, -0.1404, -0.3127]], requires_grad=True)\n"
          ]
        }
      ],
      "source": [
        "circ_encoder_base=circ_model.encoder.weight\n",
        "print(encoder_base)\n",
        "circ_decoder_baseC=circ_model.decoder.weight\n",
        "#print(decoder_base)\n"
      ]
    },
    {
      "cell_type": "markdown",
      "metadata": {
        "id": "1-VARld3wftL"
      },
      "source": [
        "After having the values of the weight, in order to find the values of the neurons, i just reconstruct waht happens to the input until the the bottle neck (encoder linear layer + unit circle projection)"
      ]
    },
    {
      "cell_type": "code",
      "execution_count": 100,
      "metadata": {
        "colab": {
          "base_uri": "https://localhost:8080/"
        },
        "id": "8H2FHVVpvH0_",
        "outputId": "dc621866-6e7a-4f64-d75e-0e275adf6af9"
      },
      "outputs": [],
      "source": [
        "NNphasesC=np.zeros((2,N_Samples))\n",
        "for sample in range(N_Samples):\n",
        "  temp=torch.matmul(circ_encoder_base, DATA[:,sample]).detach().numpy()\n",
        "  NNphasesC[:,sample]=temp\n",
        "  NNphasesC[:,sample] /= np.linalg.norm(NNphasesC[:,sample])\n"
      ]
    },
    {
      "cell_type": "markdown",
      "metadata": {},
      "source": [
        "### Plots"
      ]
    },
    {
      "cell_type": "code",
      "execution_count": 101,
      "metadata": {
        "colab": {
          "base_uri": "https://localhost:8080/",
          "height": 283
        },
        "id": "DMrTS1F2vfr6",
        "outputId": "b1a51b65-13c2-4ac5-d4e6-df845c153b98"
      },
      "outputs": [
        {
          "data": {
            "text/plain": [
              "[<matplotlib.lines.Line2D at 0x7fcf4e179480>]"
            ]
          },
          "execution_count": 101,
          "metadata": {},
          "output_type": "execute_result"
        },
        {
          "data": {
            "image/png": "[encoded data removed]",
            "text/plain": [
              "<Figure size 640x480 with 1 Axes>"
            ]
          },
          "metadata": {},
          "output_type": "display_data"
        }
      ],
      "source": [
        "plt.plot(NNphasesC[0,:], NNphasesC[1,:],'o')"
      ]
    },
    {
      "cell_type": "code",
      "execution_count": 102,
      "metadata": {
        "id": "avIl_26lvfr7"
      },
      "outputs": [],
      "source": [
        "inf_phasesC=np.arctan2( NNphasesC[0,:],NNphasesC[1,:] )\n",
        "\n",
        "NNshifted_phiC,madNNC=optimal_shift(inf_phasesC, true_phases)"
      ]
    },
    {
      "cell_type": "code",
      "execution_count": 103,
      "metadata": {
        "colab": {
          "base_uri": "https://localhost:8080/",
          "height": 283
        },
        "id": "u9cSPT0yvfr7",
        "outputId": "62eb5d7d-03a1-4449-ec5c-85b270a7c65d"
      },
      "outputs": [
        {
          "data": {
            "text/plain": [
              "[<matplotlib.lines.Line2D at 0x7fcf4e17be20>]"
            ]
          },
          "execution_count": 103,
          "metadata": {},
          "output_type": "execute_result"
        },
        {
          "data": {
            "image/png": "[encoded data removed]",
            "text/plain": [
              "<Figure size 640x480 with 1 Axes>"
            ]
          },
          "metadata": {},
          "output_type": "display_data"
        }
      ],
      "source": [
        "plt.plot(true_phases,NNshifted_phiC,'o')"
      ]
    },
    {
      "cell_type": "code",
      "execution_count": 104,
      "metadata": {},
      "outputs": [
        {
          "data": {
            "text/plain": [
              "290.39881880075876"
            ]
          },
          "execution_count": 104,
          "metadata": {},
          "output_type": "execute_result"
        }
      ],
      "source": [
        "sum((true_phases-NNshifted_phiC)**2)"
      ]
    },
    {
      "cell_type": "markdown",
      "metadata": {},
      "source": [
        "Outliers really impacat this way of mesuring the goodness of the fit"
      ]
    },
    {
      "cell_type": "code",
      "execution_count": 105,
      "metadata": {},
      "outputs": [
        {
          "name": "stdout",
          "output_type": "stream",
          "text": [
            "PCA  248.51430633716265\n",
            "Linear NN  302.7840867450931\n",
            "Circular NN  290.39881880075876\n"
          ]
        }
      ],
      "source": [
        "print('PCA ', sum((true_phases-PCAshifted_phi)**2) )\n",
        "print('Linear NN ', sum((true_phases-NNshifted_phi)**2) )\n",
        "print('Circular NN ', sum((true_phases-NNshifted_phiC)**2) )"
      ]
    },
    {
      "cell_type": "markdown",
      "metadata": {},
      "source": [
        "MAD seems more appropriate\n"
      ]
    },
    {
      "cell_type": "code",
      "execution_count": 106,
      "metadata": {},
      "outputs": [
        {
          "name": "stdout",
          "output_type": "stream",
          "text": [
            "PCA  0.33878580216854104\n",
            "Linear NN  0.8635016232681889\n",
            "Linear NN  0.8190286182778248\n"
          ]
        }
      ],
      "source": [
        "print('PCA ', madPCA )\n",
        "print('Linear NN ', madNN )\n",
        "print('circular NN ', madNNC )"
      ]
    },
    {
      "cell_type": "code",
      "execution_count": null,
      "metadata": {},
      "outputs": [],
      "source": []
    }
  ],
  "metadata": {
    "colab": {
      "provenance": []
    },
    "kernelspec": {
      "display_name": "Python 3.10.8 ('AE-env': conda)",
      "language": "python",
      "name": "python3"
    },
    "language_info": {
      "codemirror_mode": {
        "name": "ipython",
        "version": 3
      },
      "file_extension": ".py",
      "mimetype": "text/x-python",
      "name": "python",
      "nbconvert_exporter": "python",
      "pygments_lexer": "ipython3",
      "version": "3.10.8"
    },
    "vscode": {
      "interpreter": {
        "hash": "1007909a6976a67fc7b170fa9a0c52db963355f1ebc4285f32c9373c6d1e3276"
      }
    }
  },
  "nbformat": 4,
  "nbformat_minor": 0
}
